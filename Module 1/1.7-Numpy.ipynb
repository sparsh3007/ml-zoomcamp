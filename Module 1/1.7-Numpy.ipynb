{
 "cells": [
  {
   "cell_type": "markdown",
   "id": "01da9c9e-51a9-427b-8717-0b5020c4add6",
   "metadata": {},
   "source": [
    "# **Importing Numpy**"
   ]
  },
  {
   "cell_type": "code",
   "execution_count": 3,
   "id": "0343359f-a0d3-4e60-8f2a-bbe865d2293a",
   "metadata": {},
   "outputs": [],
   "source": [
    "import numpy as np"
   ]
  },
  {
   "cell_type": "code",
   "execution_count": 2,
   "id": "20b987a3-b243-4ae5-bd54-0aa535eb3171",
   "metadata": {},
   "outputs": [
    {
     "data": {
      "text/plain": [
       "<module 'numpy' from '/home/sparsh-raj/anaconda3/envs/ml-zoomcamp/lib/python3.12/site-packages/numpy/__init__.py'>"
      ]
     },
     "execution_count": 2,
     "metadata": {},
     "output_type": "execute_result"
    }
   ],
   "source": [
    "np"
   ]
  },
  {
   "cell_type": "markdown",
   "id": "7d544bfd-745c-4624-8bff-920ba4222bbf",
   "metadata": {},
   "source": [
    "# **Creating Arrays**"
   ]
  },
  {
   "cell_type": "code",
   "execution_count": 4,
   "id": "0d4f0570-5ce0-43b7-a39b-76c4562b447d",
   "metadata": {},
   "outputs": [
    {
     "data": {
      "text/plain": [
       "array([0., 0., 0., 0., 0., 0.])"
      ]
     },
     "execution_count": 4,
     "metadata": {},
     "output_type": "execute_result"
    }
   ],
   "source": [
    "np.zeros(6)"
   ]
  },
  {
   "cell_type": "code",
   "execution_count": 5,
   "id": "eb61b54c-b7f4-4e8b-9e94-ac92dec5e99f",
   "metadata": {},
   "outputs": [
    {
     "data": {
      "text/plain": [
       "array([1., 1., 1., 1., 1., 1., 1., 1., 1., 1.])"
      ]
     },
     "execution_count": 5,
     "metadata": {},
     "output_type": "execute_result"
    }
   ],
   "source": [
    "np.ones(10)"
   ]
  },
  {
   "cell_type": "code",
   "execution_count": 6,
   "id": "12821cfb-301d-447e-ae76-6457a1b48bf9",
   "metadata": {},
   "outputs": [
    {
     "data": {
      "text/plain": [
       "array([-6, -6, -6, -6, -6, -6, -6, -6, -6, -6])"
      ]
     },
     "execution_count": 6,
     "metadata": {},
     "output_type": "execute_result"
    }
   ],
   "source": [
    "np.full(10,-6)"
   ]
  },
  {
   "cell_type": "code",
   "execution_count": 8,
   "id": "fce84fe7-87ed-4c01-8ab4-3b312bbc78d8",
   "metadata": {},
   "outputs": [
    {
     "data": {
      "text/plain": [
       "array([ 1,  2,  3,  5,  7, 12])"
      ]
     },
     "execution_count": 8,
     "metadata": {},
     "output_type": "execute_result"
    }
   ],
   "source": [
    "a=np.array([1,2,3,5,7,12])\n",
    "a"
   ]
  },
  {
   "cell_type": "code",
   "execution_count": 10,
   "id": "7baf524e-7446-4b9b-8775-d09c1b05bd0b",
   "metadata": {},
   "outputs": [
    {
     "data": {
      "text/plain": [
       "3"
      ]
     },
     "execution_count": 10,
     "metadata": {},
     "output_type": "execute_result"
    }
   ],
   "source": [
    "a[2]"
   ]
  },
  {
   "cell_type": "code",
   "execution_count": 12,
   "id": "b2d2719a-c119-4725-a4ea-23d0caa490c4",
   "metadata": {},
   "outputs": [
    {
     "data": {
      "text/plain": [
       "array([ 1,  2, 10,  5,  7, 12])"
      ]
     },
     "execution_count": 12,
     "metadata": {},
     "output_type": "execute_result"
    }
   ],
   "source": [
    "a[2]=10\n",
    "a"
   ]
  },
  {
   "cell_type": "code",
   "execution_count": 13,
   "id": "bc0d3ec5-032a-4ff5-86b4-eba3b55eef07",
   "metadata": {},
   "outputs": [
    {
     "data": {
      "text/plain": [
       "array([0, 1, 2, 3, 4, 5, 6, 7, 8, 9])"
      ]
     },
     "execution_count": 13,
     "metadata": {},
     "output_type": "execute_result"
    }
   ],
   "source": [
    "np.arange(10)"
   ]
  },
  {
   "cell_type": "code",
   "execution_count": 14,
   "id": "4dfa1de9-0282-48f6-aeee-05a97171423c",
   "metadata": {},
   "outputs": [
    {
     "data": {
      "text/plain": [
       "array([3, 4, 5, 6, 7, 8, 9])"
      ]
     },
     "execution_count": 14,
     "metadata": {},
     "output_type": "execute_result"
    }
   ],
   "source": [
    "np.arange(3,10)"
   ]
  },
  {
   "cell_type": "code",
   "execution_count": 16,
   "id": "efccf448-a978-4eeb-afd8-21fb3ca8d2d7",
   "metadata": {},
   "outputs": [
    {
     "data": {
      "text/plain": [
       "array([0.        , 0.18181818, 0.36363636, 0.54545455, 0.72727273,\n",
       "       0.90909091, 1.09090909, 1.27272727, 1.45454545, 1.63636364,\n",
       "       1.81818182, 2.        ])"
      ]
     },
     "execution_count": 16,
     "metadata": {},
     "output_type": "execute_result"
    }
   ],
   "source": [
    "np.linspace(0,2,12)"
   ]
  },
  {
   "cell_type": "code",
   "execution_count": 18,
   "id": "1e98d2e7-2293-4042-8ff8-78d5afd2e690",
   "metadata": {},
   "outputs": [
    {
     "data": {
      "text/plain": [
       "array([ 0.,  1.,  2.,  3.,  4.,  5.,  6.,  7.,  8.,  9., 10.])"
      ]
     },
     "execution_count": 18,
     "metadata": {},
     "output_type": "execute_result"
    }
   ],
   "source": [
    "np.linspace(0,10,11)"
   ]
  },
  {
   "cell_type": "code",
   "execution_count": 19,
   "id": "d1e00033-bdf1-4880-b9c5-bee6c73c8fd5",
   "metadata": {},
   "outputs": [
    {
     "data": {
      "text/plain": [
       "array([  0.,  10.,  20.,  30.,  40.,  50.,  60.,  70.,  80.,  90., 100.])"
      ]
     },
     "execution_count": 19,
     "metadata": {},
     "output_type": "execute_result"
    }
   ],
   "source": [
    "np.linspace(0,100,11)"
   ]
  },
  {
   "cell_type": "markdown",
   "id": "74030b43-9cc6-4aeb-8b1c-ca26716b204e",
   "metadata": {},
   "source": [
    "# **MultiDimensional Arrays**"
   ]
  },
  {
   "cell_type": "code",
   "execution_count": 21,
   "id": "982babc2-9077-4cd1-b78d-8ad2830a1c19",
   "metadata": {},
   "outputs": [
    {
     "data": {
      "text/plain": [
       "array([[0., 0., 0.],\n",
       "       [0., 0., 0.],\n",
       "       [0., 0., 0.],\n",
       "       [0., 0., 0.],\n",
       "       [0., 0., 0.]])"
      ]
     },
     "execution_count": 21,
     "metadata": {},
     "output_type": "execute_result"
    }
   ],
   "source": [
    "np.zeros((5,3))"
   ]
  },
  {
   "cell_type": "code",
   "execution_count": 26,
   "id": "ccb7dff3-e36f-41f1-92e6-b101cac26551",
   "metadata": {},
   "outputs": [
    {
     "data": {
      "text/plain": [
       "array([[1, 2, 3],\n",
       "       [4, 5, 6],\n",
       "       [7, 8, 9]])"
      ]
     },
     "execution_count": 26,
     "metadata": {},
     "output_type": "execute_result"
    }
   ],
   "source": [
    "n=np.array([[1,2,3],\n",
    "         [4,5,6],\n",
    "         [7,8,9]])\n",
    "n"
   ]
  },
  {
   "cell_type": "code",
   "execution_count": 27,
   "id": "8bed3cb6-8997-4bce-8e5b-c4308e7d6ad3",
   "metadata": {},
   "outputs": [
    {
     "data": {
      "text/plain": [
       "8"
      ]
     },
     "execution_count": 27,
     "metadata": {},
     "output_type": "execute_result"
    }
   ],
   "source": [
    "n[2][1]"
   ]
  },
  {
   "cell_type": "code",
   "execution_count": 28,
   "id": "199c7c16-37b0-43d2-b665-ba2cbeae697b",
   "metadata": {},
   "outputs": [],
   "source": [
    "n[0,1]=654"
   ]
  },
  {
   "cell_type": "code",
   "execution_count": 30,
   "id": "ea797fae-5ad4-4f71-8ed7-49a94c31daab",
   "metadata": {},
   "outputs": [
    {
     "data": {
      "text/plain": [
       "array([[  1, 654,   3],\n",
       "       [  4,   5,   6],\n",
       "       [  7,   8,   9]])"
      ]
     },
     "execution_count": 30,
     "metadata": {},
     "output_type": "execute_result"
    }
   ],
   "source": [
    "n"
   ]
  },
  {
   "cell_type": "code",
   "execution_count": 31,
   "id": "6fd62a44-4dad-41ef-8052-5fa55d76f153",
   "metadata": {},
   "outputs": [
    {
     "data": {
      "text/plain": [
       "array([4, 5, 6])"
      ]
     },
     "execution_count": 31,
     "metadata": {},
     "output_type": "execute_result"
    }
   ],
   "source": [
    "n[1]"
   ]
  },
  {
   "cell_type": "code",
   "execution_count": 35,
   "id": "b7b60103-c6ee-4152-86b6-03746fcd8a07",
   "metadata": {},
   "outputs": [
    {
     "data": {
      "text/plain": [
       "array([654,   5,   8])"
      ]
     },
     "execution_count": 35,
     "metadata": {},
     "output_type": "execute_result"
    }
   ],
   "source": [
    "n[:,1] ##get all the rows for column index 1"
   ]
  },
  {
   "cell_type": "code",
   "execution_count": 37,
   "id": "62524885-702a-4323-af57-4b71034f2a67",
   "metadata": {},
   "outputs": [
    {
     "data": {
      "text/plain": [
       "array([[  1, 654,  15],\n",
       "       [  4,   5,  36],\n",
       "       [  7,   8,  45]])"
      ]
     },
     "execution_count": 37,
     "metadata": {},
     "output_type": "execute_result"
    }
   ],
   "source": [
    "n[:,2]=[15,36,45]\n",
    "n"
   ]
  },
  {
   "cell_type": "markdown",
   "id": "19a2f7a1-3245-4311-8cc1-e2578984f02c",
   "metadata": {},
   "source": [
    "# **Randomly Generate arrays**"
   ]
  },
  {
   "cell_type": "code",
   "execution_count": 66,
   "id": "21bac181-fcd5-41f7-aff9-5149ce1bb28f",
   "metadata": {},
   "outputs": [
    {
     "data": {
      "text/plain": [
       "array([[54.42081601,  8.20949223],\n",
       "       [36.63424017, 85.0850504 ],\n",
       "       [40.6275043 ,  2.72023659],\n",
       "       [24.7177239 ,  6.71443707],\n",
       "       [99.38520114, 97.05803134]])"
      ]
     },
     "execution_count": 66,
     "metadata": {},
     "output_type": "execute_result"
    }
   ],
   "source": [
    "# np.random.seed(2)\n",
    "100*np.random.rand(5,2)"
   ]
  },
  {
   "cell_type": "code",
   "execution_count": 63,
   "id": "1df247b6-f154-4aac-b442-813eea0d2364",
   "metadata": {},
   "outputs": [
    {
     "data": {
      "text/plain": [
       "array([[ 9.76147160e-06,  5.42352572e-01],\n",
       "       [-3.13508197e-01,  7.71011738e-01],\n",
       "       [-1.86809065e+00,  1.73118467e+00],\n",
       "       [ 1.46767801e+00, -3.35677339e-01],\n",
       "       [ 6.11340780e-01,  4.79705919e-02]])"
      ]
     },
     "execution_count": 63,
     "metadata": {},
     "output_type": "execute_result"
    }
   ],
   "source": [
    "np.random.randn(5,2)"
   ]
  },
  {
   "cell_type": "markdown",
   "id": "7d9f978e-09ea-443c-9e70-15908e96fbe6",
   "metadata": {},
   "source": [
    "# **Element-wise operations**"
   ]
  },
  {
   "cell_type": "code",
   "execution_count": 65,
   "id": "c33dcf5b-d374-4db6-bcbd-08ff16b098c8",
   "metadata": {},
   "outputs": [
    {
     "data": {
      "text/plain": [
       "array([0, 1, 2, 3, 4])"
      ]
     },
     "execution_count": 65,
     "metadata": {},
     "output_type": "execute_result"
    }
   ],
   "source": [
    "a=np.arange(5)\n",
    "a"
   ]
  },
  {
   "cell_type": "code",
   "execution_count": 69,
   "id": "4503ab24-c255-445b-964d-3a8be03127f5",
   "metadata": {},
   "outputs": [
    {
     "data": {
      "text/plain": [
       "array([10. , 14.4, 19.6, 25.6, 32.4])"
      ]
     },
     "execution_count": 69,
     "metadata": {},
     "output_type": "execute_result"
    }
   ],
   "source": [
    "b=((a*2+10)**2)/10\n",
    "b"
   ]
  },
  {
   "cell_type": "code",
   "execution_count": 74,
   "id": "8f4ed618-83b6-4255-b801-265aa3130bf4",
   "metadata": {},
   "outputs": [
    {
     "data": {
      "text/plain": [
       "array([0.        , 0.06944444, 0.10204082, 0.1171875 , 0.12345679])"
      ]
     },
     "execution_count": 74,
     "metadata": {},
     "output_type": "execute_result"
    }
   ],
   "source": [
    "a/b"
   ]
  },
  {
   "cell_type": "markdown",
   "id": "8c678158-4e80-4a42-827f-88443fbca244",
   "metadata": {},
   "source": [
    "# **Comparison operations**"
   ]
  },
  {
   "cell_type": "code",
   "execution_count": 75,
   "id": "ff02fb4f-2343-4fc4-90d0-6195e9bc26f7",
   "metadata": {},
   "outputs": [
    {
     "data": {
      "text/plain": [
       "array([0, 1, 2, 3, 4])"
      ]
     },
     "execution_count": 75,
     "metadata": {},
     "output_type": "execute_result"
    }
   ],
   "source": [
    "a"
   ]
  },
  {
   "cell_type": "code",
   "execution_count": 76,
   "id": "720a6050-e7ea-4729-a0cf-00d9bd956d58",
   "metadata": {},
   "outputs": [
    {
     "data": {
      "text/plain": [
       "array([False, False,  True,  True,  True])"
      ]
     },
     "execution_count": 76,
     "metadata": {},
     "output_type": "execute_result"
    }
   ],
   "source": [
    "a>=2"
   ]
  },
  {
   "cell_type": "code",
   "execution_count": 77,
   "id": "43187e25-815d-425c-95f3-837caca2cde0",
   "metadata": {},
   "outputs": [
    {
     "data": {
      "text/plain": [
       "array([2, 3, 4])"
      ]
     },
     "execution_count": 77,
     "metadata": {},
     "output_type": "execute_result"
    }
   ],
   "source": [
    "a[a>=2]"
   ]
  },
  {
   "cell_type": "code",
   "execution_count": 78,
   "id": "9b3fb860-0448-4a04-bfa9-438b410940ac",
   "metadata": {},
   "outputs": [
    {
     "data": {
      "text/plain": [
       "array([10. , 14.4, 19.6, 25.6, 32.4])"
      ]
     },
     "execution_count": 78,
     "metadata": {},
     "output_type": "execute_result"
    }
   ],
   "source": [
    "b"
   ]
  },
  {
   "cell_type": "code",
   "execution_count": 85,
   "id": "d484c032-c100-4dd5-a2a5-6b5b7da47f57",
   "metadata": {},
   "outputs": [
    {
     "data": {
      "text/plain": [
       "array([False, False, False, False, False])"
      ]
     },
     "execution_count": 85,
     "metadata": {},
     "output_type": "execute_result"
    }
   ],
   "source": [
    "a>b"
   ]
  },
  {
   "cell_type": "code",
   "execution_count": 82,
   "id": "311b755f-b8c5-4db8-ab00-0ea5f849b22e",
   "metadata": {},
   "outputs": [
    {
     "data": {
      "text/plain": [
       "array([ True,  True,  True,  True,  True])"
      ]
     },
     "execution_count": 82,
     "metadata": {},
     "output_type": "execute_result"
    }
   ],
   "source": [
    "b>a"
   ]
  },
  {
   "cell_type": "markdown",
   "id": "c488562c-a4af-4f23-9c6b-529c55a42ae8",
   "metadata": {},
   "source": [
    "# **Summarizing operations**"
   ]
  },
  {
   "cell_type": "code",
   "execution_count": 86,
   "id": "9a776e1b-7fb3-467f-b5c7-676d8413eea6",
   "metadata": {},
   "outputs": [
    {
     "data": {
      "text/plain": [
       "0"
      ]
     },
     "execution_count": 86,
     "metadata": {},
     "output_type": "execute_result"
    }
   ],
   "source": [
    "a.min()"
   ]
  },
  {
   "cell_type": "code",
   "execution_count": 87,
   "id": "eb198d3d-3a21-41e6-8260-0eb2828568de",
   "metadata": {},
   "outputs": [
    {
     "data": {
      "text/plain": [
       "4"
      ]
     },
     "execution_count": 87,
     "metadata": {},
     "output_type": "execute_result"
    }
   ],
   "source": [
    "a.max()"
   ]
  },
  {
   "cell_type": "code",
   "execution_count": 88,
   "id": "c23aaac3-f146-4255-a9f4-4d257e540864",
   "metadata": {},
   "outputs": [
    {
     "data": {
      "text/plain": [
       "10"
      ]
     },
     "execution_count": 88,
     "metadata": {},
     "output_type": "execute_result"
    }
   ],
   "source": [
    "a.sum()"
   ]
  },
  {
   "cell_type": "code",
   "execution_count": 90,
   "id": "22165c31-5de2-43b9-ad85-4ca1512d45b6",
   "metadata": {},
   "outputs": [
    {
     "data": {
      "text/plain": [
       "2.0"
      ]
     },
     "execution_count": 90,
     "metadata": {},
     "output_type": "execute_result"
    }
   ],
   "source": [
    "a.mean()"
   ]
  },
  {
   "cell_type": "code",
   "execution_count": 91,
   "id": "d0166aab-f7d6-4163-9cea-96443740b195",
   "metadata": {},
   "outputs": [
    {
     "data": {
      "text/plain": [
       "1.4142135623730951"
      ]
     },
     "execution_count": 91,
     "metadata": {},
     "output_type": "execute_result"
    }
   ],
   "source": [
    "a.std()"
   ]
  },
  {
   "cell_type": "code",
   "execution_count": 93,
   "id": "fe13c403-5a19-4dda-a1f1-3c2ad6d76cb8",
   "metadata": {},
   "outputs": [
    {
     "data": {
      "text/plain": [
       "array([[  1, 654,  15],\n",
       "       [  4,   5,  36],\n",
       "       [  7,   8,  45]])"
      ]
     },
     "execution_count": 93,
     "metadata": {},
     "output_type": "execute_result"
    }
   ],
   "source": [
    "n"
   ]
  },
  {
   "cell_type": "code",
   "execution_count": 95,
   "id": "04ad2447-79ba-4353-ad71-c3d56da6fa49",
   "metadata": {},
   "outputs": [
    {
     "data": {
      "text/plain": [
       "775"
      ]
     },
     "execution_count": 95,
     "metadata": {},
     "output_type": "execute_result"
    }
   ],
   "source": [
    "n.sum()"
   ]
  },
  {
   "cell_type": "code",
   "execution_count": 96,
   "id": "a9c46bed-2825-4761-b330-730da0950206",
   "metadata": {},
   "outputs": [
    {
     "data": {
      "text/plain": [
       "1"
      ]
     },
     "execution_count": 96,
     "metadata": {},
     "output_type": "execute_result"
    }
   ],
   "source": [
    "n.min()"
   ]
  },
  {
   "cell_type": "code",
   "execution_count": 97,
   "id": "b56257ad-5375-47a7-9706-f49386d13fbf",
   "metadata": {},
   "outputs": [
    {
     "data": {
      "text/plain": [
       "654"
      ]
     },
     "execution_count": 97,
     "metadata": {},
     "output_type": "execute_result"
    }
   ],
   "source": [
    "n.max()"
   ]
  },
  {
   "cell_type": "code",
   "execution_count": null,
   "id": "18f620fa-5f15-4977-bdde-60ab67f0daf3",
   "metadata": {},
   "outputs": [],
   "source": []
  }
 ],
 "metadata": {
  "kernelspec": {
   "display_name": "Python 3 (ipykernel)",
   "language": "python",
   "name": "python3"
  },
  "language_info": {
   "codemirror_mode": {
    "name": "ipython",
    "version": 3
   },
   "file_extension": ".py",
   "mimetype": "text/x-python",
   "name": "python",
   "nbconvert_exporter": "python",
   "pygments_lexer": "ipython3",
   "version": "3.12.4"
  }
 },
 "nbformat": 4,
 "nbformat_minor": 5
}
