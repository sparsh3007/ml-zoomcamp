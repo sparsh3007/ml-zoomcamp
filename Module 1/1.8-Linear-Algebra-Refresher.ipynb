{
 "cells": [
  {
   "cell_type": "markdown",
   "id": "498d7428-c58d-43a4-8425-e24c3dba4543",
   "metadata": {},
   "source": [
    "# **Importing Numpy**"
   ]
  },
  {
   "cell_type": "code",
   "execution_count": 1,
   "id": "9850cf25-d0bd-4219-a640-2a3c652ce3e8",
   "metadata": {},
   "outputs": [],
   "source": [
    "import numpy as np"
   ]
  },
  {
   "cell_type": "markdown",
   "id": "74e0a129-c1ce-4095-9c6f-4746e8fffead",
   "metadata": {},
   "source": [
    "# **Vector Operations**"
   ]
  },
  {
   "cell_type": "code",
   "execution_count": 2,
   "id": "8d56e272-06cf-4a8d-8ef4-bd3cc98a62e5",
   "metadata": {},
   "outputs": [],
   "source": [
    "u=np.array([2,4,5,6])"
   ]
  },
  {
   "cell_type": "code",
   "execution_count": 3,
   "id": "647e4433-14fb-4bbc-85b6-b89884aaa17c",
   "metadata": {},
   "outputs": [
    {
     "data": {
      "text/plain": [
       "array([2, 4, 5, 6])"
      ]
     },
     "execution_count": 3,
     "metadata": {},
     "output_type": "execute_result"
    }
   ],
   "source": [
    "u"
   ]
  },
  {
   "cell_type": "code",
   "execution_count": 4,
   "id": "7a668267-0848-43b6-8546-09b7b1c5718d",
   "metadata": {},
   "outputs": [],
   "source": [
    "v=np.array([1,0,0,2])"
   ]
  },
  {
   "cell_type": "code",
   "execution_count": 5,
   "id": "d605c87a-e4cb-4a0a-8b9f-3ade07616347",
   "metadata": {},
   "outputs": [
    {
     "data": {
      "text/plain": [
       "array([1, 0, 0, 2])"
      ]
     },
     "execution_count": 5,
     "metadata": {},
     "output_type": "execute_result"
    }
   ],
   "source": [
    "v"
   ]
  },
  {
   "cell_type": "code",
   "execution_count": 6,
   "id": "b487a474-d85a-4a1b-b78a-2cea4fba3185",
   "metadata": {},
   "outputs": [
    {
     "data": {
      "text/plain": [
       "array([3, 4, 5, 8])"
      ]
     },
     "execution_count": 6,
     "metadata": {},
     "output_type": "execute_result"
    }
   ],
   "source": [
    "u+v"
   ]
  },
  {
   "cell_type": "code",
   "execution_count": 7,
   "id": "aa18f486-e6a7-46e8-90eb-790c6c616fa5",
   "metadata": {},
   "outputs": [
    {
     "data": {
      "text/plain": [
       "array([1, 4, 5, 4])"
      ]
     },
     "execution_count": 7,
     "metadata": {},
     "output_type": "execute_result"
    }
   ],
   "source": [
    "u-v"
   ]
  },
  {
   "cell_type": "code",
   "execution_count": 8,
   "id": "784d5a76-6f4e-4ea6-8915-63d8cb82b971",
   "metadata": {},
   "outputs": [
    {
     "data": {
      "text/plain": [
       "array([ 4,  8, 10, 12])"
      ]
     },
     "execution_count": 8,
     "metadata": {},
     "output_type": "execute_result"
    }
   ],
   "source": [
    "2*u"
   ]
  },
  {
   "cell_type": "markdown",
   "id": "bc3dd61e-d296-4eac-9b10-5dbeae8f9655",
   "metadata": {},
   "source": [
    "# **Multiplication**"
   ]
  },
  {
   "cell_type": "markdown",
   "id": "3dab51df-de32-4dfa-a1a4-f8fa24e06b0d",
   "metadata": {},
   "source": [
    "## **Vector-Vector Multiplication**"
   ]
  },
  {
   "cell_type": "code",
   "execution_count": 13,
   "id": "35f0bc9f-724e-4370-815f-a44254224efb",
   "metadata": {},
   "outputs": [],
   "source": [
    "def vector_vector_multiplication(u,v):\n",
    "    assert u.shape[0]==v.shape[0]\n",
    "    n=u.shape[0]\n",
    "    result=0.0\n",
    "    for i in range(n):\n",
    "        result+=u[i]*v[i]\n",
    "    return result"
   ]
  },
  {
   "cell_type": "code",
   "execution_count": 14,
   "id": "d93fe3aa-17d0-49a0-863a-9e381c243d63",
   "metadata": {},
   "outputs": [
    {
     "data": {
      "text/plain": [
       "14.0"
      ]
     },
     "execution_count": 14,
     "metadata": {},
     "output_type": "execute_result"
    }
   ],
   "source": [
    "vector_vector_multiplication(u,v)"
   ]
  },
  {
   "cell_type": "code",
   "execution_count": 16,
   "id": "c3cc4732-3c30-41ad-ae67-106db16b59c8",
   "metadata": {},
   "outputs": [
    {
     "data": {
      "text/plain": [
       "14"
      ]
     },
     "execution_count": 16,
     "metadata": {},
     "output_type": "execute_result"
    }
   ],
   "source": [
    "# Numpy builtin funciton for vector-vector multipliaction\n",
    "u.dot(v)"
   ]
  },
  {
   "cell_type": "markdown",
   "id": "9cbc8152-ff8d-4037-a839-eebca90caefe",
   "metadata": {},
   "source": [
    "## **Matrix-Vector Multiplication**"
   ]
  },
  {
   "cell_type": "code",
   "execution_count": 18,
   "id": "e825488e-ffae-481d-8609-d1da35c435e2",
   "metadata": {},
   "outputs": [],
   "source": [
    "U=np.array([[2,4,5,6],\n",
    "           [1,2,1,2],\n",
    "           [3,1,2,1]])"
   ]
  },
  {
   "cell_type": "code",
   "execution_count": 19,
   "id": "5fa3104b-7a1f-49e6-9c5c-c42f0622a8f5",
   "metadata": {},
   "outputs": [
    {
     "data": {
      "text/plain": [
       "array([[2, 4, 5, 6],\n",
       "       [1, 2, 1, 2],\n",
       "       [3, 1, 2, 1]])"
      ]
     },
     "execution_count": 19,
     "metadata": {},
     "output_type": "execute_result"
    }
   ],
   "source": [
    "U"
   ]
  },
  {
   "cell_type": "code",
   "execution_count": 24,
   "id": "1de94ce4-63d5-4034-ab01-0770d9ef3d6d",
   "metadata": {},
   "outputs": [
    {
     "data": {
      "text/plain": [
       "array([1, 0, 0, 2])"
      ]
     },
     "execution_count": 24,
     "metadata": {},
     "output_type": "execute_result"
    }
   ],
   "source": [
    "v"
   ]
  },
  {
   "cell_type": "code",
   "execution_count": 20,
   "id": "77c400f0-5856-4e58-a8f0-558d6cd09489",
   "metadata": {},
   "outputs": [
    {
     "data": {
      "text/plain": [
       "(3, 4)"
      ]
     },
     "execution_count": 20,
     "metadata": {},
     "output_type": "execute_result"
    }
   ],
   "source": [
    "U.shape"
   ]
  },
  {
   "cell_type": "code",
   "execution_count": 27,
   "id": "a39659af-1d48-4de8-ba33-74450cdbc350",
   "metadata": {},
   "outputs": [],
   "source": [
    "def matrix_vector_multiplication(U,v):\n",
    "    assert U.shape[1]==v.shape[0]\n",
    "    num_rows=U.shape[0]\n",
    "    result=np.zeros(num_rows)\n",
    "    for i in range(num_rows):\n",
    "        result[i]=vector_vector_multiplication(U[i],v)\n",
    "        # result[i]=U[i].dot(v)\n",
    "    return result"
   ]
  },
  {
   "cell_type": "code",
   "execution_count": 28,
   "id": "5acb217d-547e-4708-a49f-70555ead9dc1",
   "metadata": {},
   "outputs": [
    {
     "data": {
      "text/plain": [
       "array([14.,  5.,  5.])"
      ]
     },
     "execution_count": 28,
     "metadata": {},
     "output_type": "execute_result"
    }
   ],
   "source": [
    "matrix_vector_multiplication(U,v)"
   ]
  },
  {
   "cell_type": "code",
   "execution_count": 29,
   "id": "8c4f9952-06cf-462f-8595-d94e5f565ec3",
   "metadata": {},
   "outputs": [
    {
     "data": {
      "text/plain": [
       "array([14,  5,  5])"
      ]
     },
     "execution_count": 29,
     "metadata": {},
     "output_type": "execute_result"
    }
   ],
   "source": [
    "U.dot(v)"
   ]
  },
  {
   "cell_type": "markdown",
   "id": "950a8dea-5613-46c4-9265-ca1051791a29",
   "metadata": {},
   "source": [
    "## **Matrix-Matrix Multiplication**"
   ]
  },
  {
   "cell_type": "code",
   "execution_count": 31,
   "id": "2db14054-4b3f-4ca9-ba64-318cb66423b5",
   "metadata": {},
   "outputs": [
    {
     "data": {
      "text/plain": [
       "(array([[2, 4, 5, 6],\n",
       "        [1, 2, 1, 2],\n",
       "        [3, 1, 2, 1]]),\n",
       " (3, 4))"
      ]
     },
     "execution_count": 31,
     "metadata": {},
     "output_type": "execute_result"
    }
   ],
   "source": [
    "U, U.shape"
   ]
  },
  {
   "cell_type": "code",
   "execution_count": 32,
   "id": "2a1cc079-4f5c-4ade-9eb8-536d8df6aa21",
   "metadata": {},
   "outputs": [],
   "source": [
    "V=np.array([[1,1,2],\n",
    "            [0,0.5,1],\n",
    "            [0,2,1],\n",
    "            [2,1,0]])"
   ]
  },
  {
   "cell_type": "code",
   "execution_count": 33,
   "id": "d4b8afa8-f38e-4dcd-9386-589481e9cf92",
   "metadata": {},
   "outputs": [
    {
     "data": {
      "text/plain": [
       "(array([[1. , 1. , 2. ],\n",
       "        [0. , 0.5, 1. ],\n",
       "        [0. , 2. , 1. ],\n",
       "        [2. , 1. , 0. ]]),\n",
       " (4, 3))"
      ]
     },
     "execution_count": 33,
     "metadata": {},
     "output_type": "execute_result"
    }
   ],
   "source": [
    "V,V.shape"
   ]
  },
  {
   "cell_type": "code",
   "execution_count": 34,
   "id": "7c2d843d-14a3-416a-b38c-f3a989b27a51",
   "metadata": {},
   "outputs": [],
   "source": [
    "def matrix_matrix_multiplication(U,V):\n",
    "    assert U.shape[1]==V.shape[0]\n",
    "    num_rows=U.shape[0]\n",
    "    num_cols=V.shape[1]\n",
    "    result=np.zeros((num_rows,num_cols))\n",
    "\n",
    "    for col in range(num_cols):\n",
    "        vi=V[:,col]\n",
    "        Uvi=matrix_vector_multiplication(U,vi)\n",
    "        result[:,col]=Uvi\n",
    "    return result"
   ]
  },
  {
   "cell_type": "code",
   "execution_count": 35,
   "id": "a8d69c57-1b54-43e3-8746-11e006a3373e",
   "metadata": {},
   "outputs": [
    {
     "data": {
      "text/plain": [
       "array([[14. , 20. , 13. ],\n",
       "       [ 5. ,  6. ,  5. ],\n",
       "       [ 5. ,  8.5,  9. ]])"
      ]
     },
     "execution_count": 35,
     "metadata": {},
     "output_type": "execute_result"
    }
   ],
   "source": [
    "matrix_matrix_multiplication(U,V)"
   ]
  },
  {
   "cell_type": "code",
   "execution_count": 36,
   "id": "175b26d7-7590-4d7f-b46a-15217f8abf6f",
   "metadata": {},
   "outputs": [
    {
     "data": {
      "text/plain": [
       "array([[14. , 20. , 13. ],\n",
       "       [ 5. ,  6. ,  5. ],\n",
       "       [ 5. ,  8.5,  9. ]])"
      ]
     },
     "execution_count": 36,
     "metadata": {},
     "output_type": "execute_result"
    }
   ],
   "source": [
    "U.dot(V)"
   ]
  },
  {
   "cell_type": "markdown",
   "id": "824970f0-3fe2-4ed1-b409-d337f494da75",
   "metadata": {},
   "source": [
    "# **Identity Matrix**"
   ]
  },
  {
   "cell_type": "code",
   "execution_count": 49,
   "id": "1063e6dd-f893-4006-83f2-578edd53053f",
   "metadata": {},
   "outputs": [],
   "source": [
    "I3=np.eye(3)"
   ]
  },
  {
   "cell_type": "code",
   "execution_count": 47,
   "id": "35391d5a-7c92-46d1-af70-359bb5941243",
   "metadata": {},
   "outputs": [
    {
     "data": {
      "text/plain": [
       "array([[2, 4, 5, 6],\n",
       "       [1, 2, 1, 2],\n",
       "       [3, 1, 2, 1]])"
      ]
     },
     "execution_count": 47,
     "metadata": {},
     "output_type": "execute_result"
    }
   ],
   "source": [
    "U"
   ]
  },
  {
   "cell_type": "code",
   "execution_count": 50,
   "id": "f3e6193d-343b-407f-a85c-6f8ed2d1aca9",
   "metadata": {},
   "outputs": [
    {
     "data": {
      "text/plain": [
       "array([[2., 4., 5., 6.],\n",
       "       [1., 2., 1., 2.],\n",
       "       [3., 1., 2., 1.]])"
      ]
     },
     "execution_count": 50,
     "metadata": {},
     "output_type": "execute_result"
    }
   ],
   "source": [
    "I3.dot(U)"
   ]
  },
  {
   "cell_type": "code",
   "execution_count": 51,
   "id": "099eff4a-dde7-4f7e-a6d8-d7853ec5fffd",
   "metadata": {},
   "outputs": [],
   "source": [
    "I4=np.eye(4)"
   ]
  },
  {
   "cell_type": "code",
   "execution_count": 52,
   "id": "66d4fdae-840d-4d43-8077-5352df5d432b",
   "metadata": {},
   "outputs": [
    {
     "data": {
      "text/plain": [
       "array([[2., 4., 5., 6.],\n",
       "       [1., 2., 1., 2.],\n",
       "       [3., 1., 2., 1.]])"
      ]
     },
     "execution_count": 52,
     "metadata": {},
     "output_type": "execute_result"
    }
   ],
   "source": [
    "U.dot(I4)"
   ]
  },
  {
   "cell_type": "markdown",
   "id": "42ab6524-766f-43aa-a37d-9c8cddfeccd9",
   "metadata": {},
   "source": [
    "# **Inverse of a matrix**"
   ]
  },
  {
   "cell_type": "code",
   "execution_count": 59,
   "id": "6617c1a8-4813-4995-9117-826f172763ed",
   "metadata": {},
   "outputs": [],
   "source": [
    "Vs=V[[0,1,2,]]"
   ]
  },
  {
   "cell_type": "code",
   "execution_count": 60,
   "id": "1946558a-2354-4a57-ba7a-bacf3ac934da",
   "metadata": {},
   "outputs": [
    {
     "data": {
      "text/plain": [
       "array([[1. , 1. , 2. ],\n",
       "       [0. , 0.5, 1. ],\n",
       "       [0. , 2. , 1. ]])"
      ]
     },
     "execution_count": 60,
     "metadata": {},
     "output_type": "execute_result"
    }
   ],
   "source": [
    "Vs"
   ]
  },
  {
   "cell_type": "code",
   "execution_count": 64,
   "id": "9ce67047-1086-4f6b-bb9a-802206106b51",
   "metadata": {},
   "outputs": [
    {
     "data": {
      "text/plain": [
       "array([[ 1.        , -2.        ,  0.        ],\n",
       "       [ 0.        , -0.66666667,  0.66666667],\n",
       "       [ 0.        ,  1.33333333, -0.33333333]])"
      ]
     },
     "execution_count": 64,
     "metadata": {},
     "output_type": "execute_result"
    }
   ],
   "source": [
    "Vs_inv=np.linalg.inv(Vs)\n",
    "Vs_inv"
   ]
  },
  {
   "cell_type": "code",
   "execution_count": 65,
   "id": "5b0b9d4a-6c49-4026-82e4-be8e889176ac",
   "metadata": {},
   "outputs": [
    {
     "data": {
      "text/plain": [
       "array([[1., 0., 0.],\n",
       "       [0., 1., 0.],\n",
       "       [0., 0., 1.]])"
      ]
     },
     "execution_count": 65,
     "metadata": {},
     "output_type": "execute_result"
    }
   ],
   "source": [
    "Vs.dot(Vs_inv)"
   ]
  }
 ],
 "metadata": {
  "kernelspec": {
   "display_name": "Python 3 (ipykernel)",
   "language": "python",
   "name": "python3"
  },
  "language_info": {
   "codemirror_mode": {
    "name": "ipython",
    "version": 3
   },
   "file_extension": ".py",
   "mimetype": "text/x-python",
   "name": "python",
   "nbconvert_exporter": "python",
   "pygments_lexer": "ipython3",
   "version": "3.12.4"
  }
 },
 "nbformat": 4,
 "nbformat_minor": 5
}
