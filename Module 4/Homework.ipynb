{
 "cells": [
  {
   "cell_type": "code",
   "execution_count": 177,
   "id": "16b57825-e507-4237-920d-9f39f389b2b0",
   "metadata": {},
   "outputs": [],
   "source": [
    "import pandas as pd\n",
    "from zipfile import ZipFile\n",
    "import numpy as np\n",
    "import matplotlib.pyplot as plt"
   ]
  },
  {
   "cell_type": "markdown",
   "id": "42a61732-0a03-4112-8151-775e2d4a1af1",
   "metadata": {},
   "source": [
    "### Dataset\n",
    "\n",
    "In this homework, we will use the Bank Marketing dataset. Download it from [here](https://archive.ics.uci.edu/static/public/222/bank+marketing.zip).\n",
    "\n",
    "Or you can do it with `wget`:\n",
    "\n",
    "```bash\n",
    "wget https://archive.ics.uci.edu/static/public/222/bank+marketing.zip\n",
    "```\n",
    "\n",
    "We need to take `bank/bank-full.csv` file from the downloaded zip-file.  \n",
    "In this dataset our desired target for classification task will be `y` variable - has the client subscribed a term deposit or not. "
   ]
  },
  {
   "cell_type": "code",
   "execution_count": 2,
   "id": "f220d113-b399-4035-9bb3-72367e45ea9a",
   "metadata": {},
   "outputs": [],
   "source": [
    "data = 'https://archive.ics.uci.edu/static/public/222/bank+marketing.zip'"
   ]
  },
  {
   "cell_type": "code",
   "execution_count": 3,
   "id": "783a815b-437b-4314-8392-c70b3ad1c817",
   "metadata": {},
   "outputs": [
    {
     "name": "stdout",
     "output_type": "stream",
     "text": [
      "--2024-10-23 15:14:20--  https://archive.ics.uci.edu/static/public/222/bank+marketing.zip\n",
      "Resolving archive.ics.uci.edu (archive.ics.uci.edu)... 128.195.10.252\n",
      "Connecting to archive.ics.uci.edu (archive.ics.uci.edu)|128.195.10.252|:443... connected.\n",
      "HTTP request sent, awaiting response... 200 OK\n",
      "Length: unspecified\n",
      "Saving to: ‘bank+marketing.zip’\n",
      "\n",
      "bank+marketing.zip      [            <=>     ] 999.85K   201KB/s    in 5.1s    \n",
      "\n",
      "2024-10-23 15:14:26 (194 KB/s) - ‘bank+marketing.zip’ saved [1023843]\n",
      "\n"
     ]
    }
   ],
   "source": [
    "!wget $data"
   ]
  },
  {
   "cell_type": "code",
   "execution_count": 4,
   "id": "df0ee91e-3cd7-4208-a191-b9f8c88d8423",
   "metadata": {},
   "outputs": [],
   "source": [
    "zf = ZipFile('bank+marketing.zip', 'r')\n",
    "zf.extractall('bank+marketing')\n",
    "zf.close()"
   ]
  },
  {
   "cell_type": "code",
   "execution_count": 5,
   "id": "3f5cae2c-b515-4ae8-b52a-e3e78449a997",
   "metadata": {},
   "outputs": [],
   "source": [
    "zf = ZipFile('bank+marketing/bank.zip', 'r')\n",
    "zf.extractall('bank')\n",
    "zf.close()"
   ]
  },
  {
   "cell_type": "code",
   "execution_count": 126,
   "id": "aef6dff1-d72b-4fb4-b44e-990d18eca784",
   "metadata": {},
   "outputs": [],
   "source": [
    "import pandas as pd\n",
    "import numpy as np"
   ]
  },
  {
   "cell_type": "code",
   "execution_count": 147,
   "id": "a4a75ab7-3cd1-496c-8af0-8c164734b0a2",
   "metadata": {},
   "outputs": [
    {
     "data": {
      "text/html": [
       "<div>\n",
       "<style scoped>\n",
       "    .dataframe tbody tr th:only-of-type {\n",
       "        vertical-align: middle;\n",
       "    }\n",
       "\n",
       "    .dataframe tbody tr th {\n",
       "        vertical-align: top;\n",
       "    }\n",
       "\n",
       "    .dataframe thead th {\n",
       "        text-align: right;\n",
       "    }\n",
       "</style>\n",
       "<table border=\"1\" class=\"dataframe\">\n",
       "  <thead>\n",
       "    <tr style=\"text-align: right;\">\n",
       "      <th></th>\n",
       "      <th>age</th>\n",
       "      <th>job</th>\n",
       "      <th>marital</th>\n",
       "      <th>education</th>\n",
       "      <th>default</th>\n",
       "      <th>balance</th>\n",
       "      <th>housing</th>\n",
       "      <th>loan</th>\n",
       "      <th>contact</th>\n",
       "      <th>day</th>\n",
       "      <th>month</th>\n",
       "      <th>duration</th>\n",
       "      <th>campaign</th>\n",
       "      <th>pdays</th>\n",
       "      <th>previous</th>\n",
       "      <th>poutcome</th>\n",
       "      <th>y</th>\n",
       "    </tr>\n",
       "  </thead>\n",
       "  <tbody>\n",
       "    <tr>\n",
       "      <th>0</th>\n",
       "      <td>58</td>\n",
       "      <td>management</td>\n",
       "      <td>married</td>\n",
       "      <td>tertiary</td>\n",
       "      <td>no</td>\n",
       "      <td>2143</td>\n",
       "      <td>yes</td>\n",
       "      <td>no</td>\n",
       "      <td>unknown</td>\n",
       "      <td>5</td>\n",
       "      <td>may</td>\n",
       "      <td>261</td>\n",
       "      <td>1</td>\n",
       "      <td>-1</td>\n",
       "      <td>0</td>\n",
       "      <td>unknown</td>\n",
       "      <td>no</td>\n",
       "    </tr>\n",
       "    <tr>\n",
       "      <th>1</th>\n",
       "      <td>44</td>\n",
       "      <td>technician</td>\n",
       "      <td>single</td>\n",
       "      <td>secondary</td>\n",
       "      <td>no</td>\n",
       "      <td>29</td>\n",
       "      <td>yes</td>\n",
       "      <td>no</td>\n",
       "      <td>unknown</td>\n",
       "      <td>5</td>\n",
       "      <td>may</td>\n",
       "      <td>151</td>\n",
       "      <td>1</td>\n",
       "      <td>-1</td>\n",
       "      <td>0</td>\n",
       "      <td>unknown</td>\n",
       "      <td>no</td>\n",
       "    </tr>\n",
       "    <tr>\n",
       "      <th>2</th>\n",
       "      <td>33</td>\n",
       "      <td>entrepreneur</td>\n",
       "      <td>married</td>\n",
       "      <td>secondary</td>\n",
       "      <td>no</td>\n",
       "      <td>2</td>\n",
       "      <td>yes</td>\n",
       "      <td>yes</td>\n",
       "      <td>unknown</td>\n",
       "      <td>5</td>\n",
       "      <td>may</td>\n",
       "      <td>76</td>\n",
       "      <td>1</td>\n",
       "      <td>-1</td>\n",
       "      <td>0</td>\n",
       "      <td>unknown</td>\n",
       "      <td>no</td>\n",
       "    </tr>\n",
       "    <tr>\n",
       "      <th>3</th>\n",
       "      <td>47</td>\n",
       "      <td>blue-collar</td>\n",
       "      <td>married</td>\n",
       "      <td>unknown</td>\n",
       "      <td>no</td>\n",
       "      <td>1506</td>\n",
       "      <td>yes</td>\n",
       "      <td>no</td>\n",
       "      <td>unknown</td>\n",
       "      <td>5</td>\n",
       "      <td>may</td>\n",
       "      <td>92</td>\n",
       "      <td>1</td>\n",
       "      <td>-1</td>\n",
       "      <td>0</td>\n",
       "      <td>unknown</td>\n",
       "      <td>no</td>\n",
       "    </tr>\n",
       "    <tr>\n",
       "      <th>4</th>\n",
       "      <td>33</td>\n",
       "      <td>unknown</td>\n",
       "      <td>single</td>\n",
       "      <td>unknown</td>\n",
       "      <td>no</td>\n",
       "      <td>1</td>\n",
       "      <td>no</td>\n",
       "      <td>no</td>\n",
       "      <td>unknown</td>\n",
       "      <td>5</td>\n",
       "      <td>may</td>\n",
       "      <td>198</td>\n",
       "      <td>1</td>\n",
       "      <td>-1</td>\n",
       "      <td>0</td>\n",
       "      <td>unknown</td>\n",
       "      <td>no</td>\n",
       "    </tr>\n",
       "  </tbody>\n",
       "</table>\n",
       "</div>"
      ],
      "text/plain": [
       "   age           job  marital  education default  balance housing loan  \\\n",
       "0   58    management  married   tertiary      no     2143     yes   no   \n",
       "1   44    technician   single  secondary      no       29     yes   no   \n",
       "2   33  entrepreneur  married  secondary      no        2     yes  yes   \n",
       "3   47   blue-collar  married    unknown      no     1506     yes   no   \n",
       "4   33       unknown   single    unknown      no        1      no   no   \n",
       "\n",
       "   contact  day month  duration  campaign  pdays  previous poutcome   y  \n",
       "0  unknown    5   may       261         1     -1         0  unknown  no  \n",
       "1  unknown    5   may       151         1     -1         0  unknown  no  \n",
       "2  unknown    5   may        76         1     -1         0  unknown  no  \n",
       "3  unknown    5   may        92         1     -1         0  unknown  no  \n",
       "4  unknown    5   may       198         1     -1         0  unknown  no  "
      ]
     },
     "execution_count": 147,
     "metadata": {},
     "output_type": "execute_result"
    }
   ],
   "source": [
    "df = pd.read_csv(\"bank/bank-full.csv\", sep = \";\")\n",
    "df.head()"
   ]
  },
  {
   "cell_type": "markdown",
   "id": "5b3a9d31-1a52-45fb-8dc5-eec4a34a949d",
   "metadata": {},
   "source": [
    "### Dataset preparation\n",
    "\n",
    "For the rest of the homework, you'll need to use only these columns:\n",
    "\n",
    "* `'age'`,\n",
    "* `'job'`,\n",
    "* `'marital'`,\n",
    "* `'education'`,\n",
    "* `'balance'`,\n",
    "* `'housing'`,\n",
    "* `'contact'`,\n",
    "* `'day'`,\n",
    "* `'month'`,\n",
    "* `'duration'`,\n",
    "* `'campaign'`,\n",
    "* `'pdays'`,\n",
    "* `'previous'`,\n",
    "* `'poutcome'`,\n",
    "* `'y'`\n",
    "\n",
    "\n",
    "\n",
    "Split the data into 3 parts: train/validation/test with 60%/20%/20% distribution. Use `train_test_split` function for that with `random_state=1`"
   ]
  },
  {
   "cell_type": "code",
   "execution_count": 148,
   "id": "7e0c9829-35d9-421b-8ff6-f25d2a700cb9",
   "metadata": {},
   "outputs": [],
   "source": [
    "features = ['age','job','marital','education','balance','housing','contact','day','month','duration','campaign',\n",
    "            'pdays','previous','poutcome','y']\n",
    "df_new = df[features].copy()"
   ]
  },
  {
   "cell_type": "code",
   "execution_count": 149,
   "id": "366171ea-847b-4b8a-8a65-de5b6538c2ac",
   "metadata": {},
   "outputs": [],
   "source": [
    "df_new.y = (df_new.y=='yes').astype(int)"
   ]
  },
  {
   "cell_type": "code",
   "execution_count": 150,
   "id": "a4e0e476-d3a2-4e5d-96cc-cafcd96706ef",
   "metadata": {},
   "outputs": [],
   "source": [
    "from sklearn.model_selection import train_test_split"
   ]
  },
  {
   "cell_type": "code",
   "execution_count": 151,
   "id": "d4c459f8-83db-49fe-b479-dc71b40b1e0e",
   "metadata": {},
   "outputs": [],
   "source": [
    "df_full_train, df_test = train_test_split(df_new, test_size=0.2, random_state=1)"
   ]
  },
  {
   "cell_type": "code",
   "execution_count": 152,
   "id": "4301ec0a-2cb2-44f1-bf0c-4c1184b6af08",
   "metadata": {},
   "outputs": [],
   "source": [
    "df_train, df_val = train_test_split(df_full_train, test_size=0.25, random_state=1)"
   ]
  },
  {
   "cell_type": "code",
   "execution_count": 153,
   "id": "8f23562d-e070-4409-94d1-1a3bdb91b643",
   "metadata": {},
   "outputs": [],
   "source": [
    "df_train.reset_index(drop=True, inplace=True)\n",
    "df_val.reset_index(drop=True, inplace=True)\n",
    "df_test.reset_index(drop=True, inplace=True)"
   ]
  },
  {
   "cell_type": "code",
   "execution_count": 154,
   "id": "54eee98f-c232-470a-95e2-d980c6867d4b",
   "metadata": {},
   "outputs": [],
   "source": [
    "y_train = df_train.y.values\n",
    "y_val = df_val.y.values\n",
    "y_test = df_test.y.values"
   ]
  },
  {
   "cell_type": "code",
   "execution_count": 155,
   "id": "07f36ac0-d949-4f9f-8b8d-713ac02b134c",
   "metadata": {},
   "outputs": [],
   "source": [
    "del df_train['y']\n",
    "del df_val['y']\n",
    "del df_test['y']"
   ]
  },
  {
   "cell_type": "code",
   "execution_count": 156,
   "id": "39d44a1e-358d-4d1b-b197-660d7db53e54",
   "metadata": {},
   "outputs": [],
   "source": [
    "df_full_train.reset_index(drop=True, inplace=True)"
   ]
  },
  {
   "cell_type": "code",
   "execution_count": null,
   "id": "bc09ff07-e1f7-4afb-b1b4-987abfa88be6",
   "metadata": {},
   "outputs": [],
   "source": []
  },
  {
   "cell_type": "markdown",
   "id": "613d8fda-eb73-4790-b575-d5beda55399c",
   "metadata": {},
   "source": [
    "### Question 1: ROC AUC feature importance\n",
    "\n",
    "ROC AUC could also be used to evaluate feature importance of numerical variables. \n",
    "\n",
    "Let's do that\n",
    "\n",
    "* For each numerical variable, use it as score (aka prediction) and compute the AUC with the `y` variable as ground truth.\n",
    "* Use the training dataset for that\n",
    "\n",
    "\n",
    "If your AUC is < 0.5, invert this variable by putting \"-\" in front\n",
    "\n",
    "(e.g. `-df_train['engine_hp']`)\n",
    "\n",
    "AUC can go below 0.5 if the variable is negatively correlated with the target variable. You can change the direction of the correlation by negating this variable - then negative correlation becomes positive.\n",
    "\n",
    "Which numerical variable (among the following 4) has the highest AUC?\n",
    "\n",
    "- `balance`\n",
    "- `day`\n",
    "- `duration`\n",
    "- `previous`"
   ]
  },
  {
   "cell_type": "code",
   "execution_count": 157,
   "id": "c20b08d6-975c-48df-aaec-79d461a4a1c0",
   "metadata": {},
   "outputs": [],
   "source": [
    "from sklearn.metrics import roc_auc_score"
   ]
  },
  {
   "cell_type": "code",
   "execution_count": 158,
   "id": "9460f09d-d0e3-48e8-af9e-0f0659556d7a",
   "metadata": {},
   "outputs": [
    {
     "name": "stdout",
     "output_type": "stream",
     "text": [
      "balance : 0.5888313805382317\n",
      "day : 0.525957882383908\n",
      "duration : 0.8147002759670778\n",
      "previous : 0.5985653242764153\n"
     ]
    }
   ],
   "source": [
    "numerical_var = ['balance', 'day', 'duration', 'previous']\n",
    "\n",
    "auc_scores = {}\n",
    "for feature in numerical_var:\n",
    "    y_pred = df_train[feature].values\n",
    "\n",
    "    score = roc_auc_score(y_true = y_train, y_score=y_pred)\n",
    "\n",
    "    if(score<0.5):\n",
    "        score = roc_auc_score(y_true = y_train, y_score=-y_pred)\n",
    "    auc_scores[feature]= score\n",
    "\n",
    "for item in auc_scores:\n",
    "    print(item, \":\", auc_scores[item])"
   ]
  },
  {
   "cell_type": "code",
   "execution_count": 159,
   "id": "dcfe6c95-78d6-49a1-97a7-32219417c827",
   "metadata": {},
   "outputs": [
    {
     "name": "stdout",
     "output_type": "stream",
     "text": [
      "duration has the highest AUC of 0.8147002759670778\n"
     ]
    }
   ],
   "source": [
    "print(f\"duration has the highest AUC of {auc_scores['duration']}\")"
   ]
  },
  {
   "cell_type": "markdown",
   "id": "c92a2424-a81d-4c56-abff-dc628ed0de3b",
   "metadata": {},
   "source": [
    "### Question 2: Training the model\n",
    "\n",
    "Apply one-hot-encoding using `DictVectorizer` and train the logistic regression with these parameters:\n",
    "\n",
    "```python\n",
    "LogisticRegression(solver='liblinear', C=1.0, max_iter=1000)\n",
    "```\n",
    "\n",
    "What's the AUC of this model on the validation dataset? (round to 3 digits)\n",
    "\n",
    "- 0.69\n",
    "- 0.79\n",
    "- 0.89\n",
    "- 0.99"
   ]
  },
  {
   "cell_type": "code",
   "execution_count": 160,
   "id": "03e5ff6d-a681-4598-bb4f-5dd2563fceab",
   "metadata": {},
   "outputs": [],
   "source": [
    "from sklearn.feature_extraction import DictVectorizer\n",
    "from sklearn.linear_model import LogisticRegression"
   ]
  },
  {
   "cell_type": "code",
   "execution_count": 165,
   "id": "341e38a4-5b5d-4b85-b560-1777140dd579",
   "metadata": {},
   "outputs": [],
   "source": [
    "categorical = list(df_new.dtypes[df_new.dtypes=='object'].index)\n",
    "numerical = list(set(features)-set(categorical))\n",
    "numerical.remove('y')"
   ]
  },
  {
   "cell_type": "code",
   "execution_count": 166,
   "id": "ba481db6-9100-4d63-a7a1-29f2661732f1",
   "metadata": {},
   "outputs": [
    {
     "data": {
      "text/plain": [
       "(['job', 'marital', 'education', 'housing', 'contact', 'month', 'poutcome'],\n",
       " ['campaign', 'previous', 'day', 'balance', 'pdays', 'duration', 'age'])"
      ]
     },
     "execution_count": 166,
     "metadata": {},
     "output_type": "execute_result"
    }
   ],
   "source": [
    "categorical, numerical"
   ]
  },
  {
   "cell_type": "code",
   "execution_count": 167,
   "id": "ea35cec1-0f0b-40a0-841e-617857e272ad",
   "metadata": {},
   "outputs": [],
   "source": [
    "def train(df, y):\n",
    "    dicts = df[categorical + numerical].to_dict(orient = 'records')\n",
    "\n",
    "    dv = DictVectorizer(sparse = False)\n",
    "    X_train = dv.fit_transform(dicts)\n",
    "\n",
    "    model = LogisticRegression(solver='liblinear', C=1.0, max_iter=1000)\n",
    "    model.fit(X_train, y_train)\n",
    "\n",
    "    return dv, model"
   ]
  },
  {
   "cell_type": "code",
   "execution_count": 168,
   "id": "1d7c8581-f789-4d80-9707-db55499aac32",
   "metadata": {},
   "outputs": [],
   "source": [
    "dv, model = train(df_train, y_train)"
   ]
  },
  {
   "cell_type": "code",
   "execution_count": 169,
   "id": "e2053984-5f47-4f00-ab80-ca65e62eda01",
   "metadata": {},
   "outputs": [],
   "source": [
    "def predict(df, dv, model):\n",
    "    dicts = df[categorical + numerical].to_dict(orient = 'records')\n",
    "\n",
    "    X = dv.transform(dicts)\n",
    "    y_pred = model.predict_proba(X)[:,1]\n",
    "\n",
    "    return y_pred"
   ]
  },
  {
   "cell_type": "code",
   "execution_count": 170,
   "id": "bc2c9399-5bc2-4fc4-a0a1-95b7545c9db4",
   "metadata": {},
   "outputs": [],
   "source": [
    "y_pred = predict(df_val, dv, model)"
   ]
  },
  {
   "cell_type": "code",
   "execution_count": 171,
   "id": "31347e59-09c1-4d0d-8da8-56667aa293bc",
   "metadata": {},
   "outputs": [
    {
     "data": {
      "text/plain": [
       "0.9"
      ]
     },
     "execution_count": 171,
     "metadata": {},
     "output_type": "execute_result"
    }
   ],
   "source": [
    "round(roc_auc_score(y_val, y_pred),3)"
   ]
  },
  {
   "cell_type": "markdown",
   "id": "a99a02fd-040a-42d1-a4c1-44f1790c77e2",
   "metadata": {},
   "source": [
    "The closest option to my answer is 0.89"
   ]
  },
  {
   "cell_type": "markdown",
   "id": "f111b17e-cf92-4599-947c-f073baa0642b",
   "metadata": {},
   "source": [
    "### Question 3: Precision and Recall\n",
    "\n",
    "Now let's compute precision and recall for our model.\n",
    "\n",
    "* Evaluate the model on all thresholds from 0.0 to 1.0 with step 0.01\n",
    "* For each threshold, compute precision and recall\n",
    "* Plot them\n",
    "\n",
    "At which threshold precision and recall curves intersect?\n",
    "\n",
    "* 0.265\n",
    "* 0.465\n",
    "* 0.665\n",
    "* 0.865\n"
   ]
  },
  {
   "cell_type": "code",
   "execution_count": 197,
   "id": "c9d6b13c-86d3-40ff-9b5b-1b4024e5fcd6",
   "metadata": {},
   "outputs": [],
   "source": [
    "def precision_recall_dataframe(y_val, y_pred):\n",
    "    scores =[]\n",
    "    thresholds = np.arange(0.0,1.0,0.01)\n",
    "\n",
    "    for t in thresholds:\n",
    "        actual_positive = (y_val == 1)\n",
    "        actual_negative = (y_val == 0)\n",
    "\n",
    "        predict_positive = (y_pred>=t)\n",
    "        predict_negative = (y_pred<t)\n",
    "\n",
    "        true_pos = (predict_positive & actual_positive).sum()\n",
    "        true_neg = (predict_negative & actual_negative).sum()\n",
    "\n",
    "        false_pos = (predict_positive & actual_negative).sum()\n",
    "        false_neg = (predict_negative & actual_positive).sum()\n",
    "\n",
    "        scores.append((t,true_pos,false_pos,false_neg,true_neg))\n",
    "        \n",
    "    columns = ['threshold', 'tp', 'fp', 'fn','tn']\n",
    "    df_scores = pd.DataFrame(scores, columns=columns)\n",
    "    df_scores['precision'] = round(df_scores.tp/ (df_scores.tp+df_scores.fp),3)\n",
    "    df_scores['recall'] = round(df_scores.tp / (df_scores.tp+df_scores.fn),3)\n",
    "\n",
    "    return df_scores"
   ]
  },
  {
   "cell_type": "code",
   "execution_count": 198,
   "id": "308be39d-d709-4b8b-98c3-a09bbbe16a2a",
   "metadata": {},
   "outputs": [],
   "source": [
    "df_scores = precision_recall_dataframe(y_val, y_pred)"
   ]
  },
  {
   "cell_type": "code",
   "execution_count": 199,
   "id": "dfab87ec-310c-4766-93ca-5bc4d85cf65c",
   "metadata": {},
   "outputs": [
    {
     "data": {
      "text/html": [
       "<div>\n",
       "<style scoped>\n",
       "    .dataframe tbody tr th:only-of-type {\n",
       "        vertical-align: middle;\n",
       "    }\n",
       "\n",
       "    .dataframe tbody tr th {\n",
       "        vertical-align: top;\n",
       "    }\n",
       "\n",
       "    .dataframe thead th {\n",
       "        text-align: right;\n",
       "    }\n",
       "</style>\n",
       "<table border=\"1\" class=\"dataframe\">\n",
       "  <thead>\n",
       "    <tr style=\"text-align: right;\">\n",
       "      <th></th>\n",
       "      <th>threshold</th>\n",
       "      <th>tp</th>\n",
       "      <th>fp</th>\n",
       "      <th>fn</th>\n",
       "      <th>tn</th>\n",
       "      <th>precision</th>\n",
       "      <th>recall</th>\n",
       "    </tr>\n",
       "  </thead>\n",
       "  <tbody>\n",
       "    <tr>\n",
       "      <th>0</th>\n",
       "      <td>0.00</td>\n",
       "      <td>1098</td>\n",
       "      <td>7944</td>\n",
       "      <td>0</td>\n",
       "      <td>0</td>\n",
       "      <td>0.121</td>\n",
       "      <td>1.000</td>\n",
       "    </tr>\n",
       "    <tr>\n",
       "      <th>11</th>\n",
       "      <td>0.11</td>\n",
       "      <td>890</td>\n",
       "      <td>1362</td>\n",
       "      <td>208</td>\n",
       "      <td>6582</td>\n",
       "      <td>0.395</td>\n",
       "      <td>0.811</td>\n",
       "    </tr>\n",
       "    <tr>\n",
       "      <th>22</th>\n",
       "      <td>0.22</td>\n",
       "      <td>691</td>\n",
       "      <td>620</td>\n",
       "      <td>407</td>\n",
       "      <td>7324</td>\n",
       "      <td>0.527</td>\n",
       "      <td>0.629</td>\n",
       "    </tr>\n",
       "    <tr>\n",
       "      <th>33</th>\n",
       "      <td>0.33</td>\n",
       "      <td>533</td>\n",
       "      <td>365</td>\n",
       "      <td>565</td>\n",
       "      <td>7579</td>\n",
       "      <td>0.594</td>\n",
       "      <td>0.485</td>\n",
       "    </tr>\n",
       "    <tr>\n",
       "      <th>44</th>\n",
       "      <td>0.44</td>\n",
       "      <td>422</td>\n",
       "      <td>238</td>\n",
       "      <td>676</td>\n",
       "      <td>7706</td>\n",
       "      <td>0.639</td>\n",
       "      <td>0.384</td>\n",
       "    </tr>\n",
       "    <tr>\n",
       "      <th>55</th>\n",
       "      <td>0.55</td>\n",
       "      <td>332</td>\n",
       "      <td>163</td>\n",
       "      <td>766</td>\n",
       "      <td>7781</td>\n",
       "      <td>0.671</td>\n",
       "      <td>0.302</td>\n",
       "    </tr>\n",
       "    <tr>\n",
       "      <th>66</th>\n",
       "      <td>0.66</td>\n",
       "      <td>250</td>\n",
       "      <td>112</td>\n",
       "      <td>848</td>\n",
       "      <td>7832</td>\n",
       "      <td>0.691</td>\n",
       "      <td>0.228</td>\n",
       "    </tr>\n",
       "    <tr>\n",
       "      <th>77</th>\n",
       "      <td>0.77</td>\n",
       "      <td>177</td>\n",
       "      <td>76</td>\n",
       "      <td>921</td>\n",
       "      <td>7868</td>\n",
       "      <td>0.700</td>\n",
       "      <td>0.161</td>\n",
       "    </tr>\n",
       "    <tr>\n",
       "      <th>88</th>\n",
       "      <td>0.88</td>\n",
       "      <td>89</td>\n",
       "      <td>36</td>\n",
       "      <td>1009</td>\n",
       "      <td>7908</td>\n",
       "      <td>0.712</td>\n",
       "      <td>0.081</td>\n",
       "    </tr>\n",
       "    <tr>\n",
       "      <th>99</th>\n",
       "      <td>0.99</td>\n",
       "      <td>10</td>\n",
       "      <td>6</td>\n",
       "      <td>1088</td>\n",
       "      <td>7938</td>\n",
       "      <td>0.625</td>\n",
       "      <td>0.009</td>\n",
       "    </tr>\n",
       "  </tbody>\n",
       "</table>\n",
       "</div>"
      ],
      "text/plain": [
       "    threshold    tp    fp    fn    tn  precision  recall\n",
       "0        0.00  1098  7944     0     0      0.121   1.000\n",
       "11       0.11   890  1362   208  6582      0.395   0.811\n",
       "22       0.22   691   620   407  7324      0.527   0.629\n",
       "33       0.33   533   365   565  7579      0.594   0.485\n",
       "44       0.44   422   238   676  7706      0.639   0.384\n",
       "55       0.55   332   163   766  7781      0.671   0.302\n",
       "66       0.66   250   112   848  7832      0.691   0.228\n",
       "77       0.77   177    76   921  7868      0.700   0.161\n",
       "88       0.88    89    36  1009  7908      0.712   0.081\n",
       "99       0.99    10     6  1088  7938      0.625   0.009"
      ]
     },
     "execution_count": 199,
     "metadata": {},
     "output_type": "execute_result"
    }
   ],
   "source": [
    "df_scores[::11]"
   ]
  },
  {
   "cell_type": "code",
   "execution_count": 219,
   "id": "bfd5677e-fc6b-4157-9cf6-a049a2532cdd",
   "metadata": {},
   "outputs": [],
   "source": [
    "from shapely.geometry import LineString"
   ]
  },
  {
   "cell_type": "code",
   "execution_count": 229,
   "id": "73b1ede5-a6f5-4e09-b0cf-fc211e6faffa",
   "metadata": {},
   "outputs": [],
   "source": [
    "first_line = LineString(np.column_stack((df_scores.threshold, df_scores.precision)))\n",
    "second_line = LineString(np.column_stack((df_scores.threshold, df_scores.recall)))\n",
    "intersection = first_line.intersection(second_line)\n",
    "intesection_threshold, precision_recall = intersection.xy"
   ]
  },
  {
   "cell_type": "code",
   "execution_count": 236,
   "id": "36ff1019-6cc7-4337-bcd3-74461de6eaf8",
   "metadata": {},
   "outputs": [
    {
     "data": {
      "image/png": "[encoded data removed]",
      "text/plain": [
       "<Figure size 700x700 with 1 Axes>"
      ]
     },
     "metadata": {},
     "output_type": "display_data"
    }
   ],
   "source": [
    "plt.figure(figsize=(7,7))\n",
    "plt.plot(df_scores.threshold, df_scores['precision'], label = 'Precision')\n",
    "plt.plot(df_scores.threshold, df_scores['recall'], label = 'Recall')\n",
    "plt.plot(*intersection.xy,'o', color='black')\n",
    "plt.legend()\n",
    "\n",
    "plt.xticks(np.arange(0, 1.1, 0.1))\n",
    "plt.yticks(np.arange(0, 1.1, 0.1))\n",
    "plt.xlabel('Thresholds')\n",
    "plt.title('Precision and Recall')\n",
    "\n",
    "plt.show()"
   ]
  },
  {
   "cell_type": "code",
   "execution_count": 238,
   "id": "2c8d8357-c5f0-465d-a2b2-0f4e42c762c6",
   "metadata": {},
   "outputs": [
    {
     "name": "stdout",
     "output_type": "stream",
     "text": [
      "The threshold precision and recall curves intersect at 0.265\n"
     ]
    }
   ],
   "source": [
    "print(f\"The threshold precision and recall curves intersect at {intesection_threshold[0]:0.3f}\")"
   ]
  },
  {
   "cell_type": "markdown",
   "id": "25a05b03-57c6-427f-b641-116b4cf9a5db",
   "metadata": {},
   "source": [
    "### Question 4: F1 score\n",
    "\n",
    "Precision and recall are conflicting - when one grows, the other goes down. That's why they are often combined into the F1 score - a metrics that takes into account both\n",
    "\n",
    "This is the formula for computing F1:\n",
    "\n",
    "$$F_1 = 2 \\cdot \\cfrac{P \\cdot R}{P + R}$$\n",
    "\n",
    "Where $P$ is precision and $R$ is recall.\n",
    "\n",
    "Let's compute F1 for all thresholds from 0.0 to 1.0 with increment 0.01\n",
    "\n",
    "At which threshold F1 is maximal?\n",
    "\n",
    "- 0.02\n",
    "- 0.22\n",
    "- 0.42\n",
    "- 0.62\n"
   ]
  },
  {
   "cell_type": "code",
   "execution_count": 239,
   "id": "0fb5ced4-6a42-4ced-9994-d994823c07c1",
   "metadata": {},
   "outputs": [],
   "source": [
    "df_scores['F1_score'] = 2* (df_scores.precision * df_scores.recall) /(df_scores.precision + df_scores.recall)"
   ]
  },
  {
   "cell_type": "code",
   "execution_count": 240,
   "id": "32cbf1c3-1924-4784-a58a-748791c1a170",
   "metadata": {},
   "outputs": [
    {
     "data": {
      "text/html": [
       "<div>\n",
       "<style scoped>\n",
       "    .dataframe tbody tr th:only-of-type {\n",
       "        vertical-align: middle;\n",
       "    }\n",
       "\n",
       "    .dataframe tbody tr th {\n",
       "        vertical-align: top;\n",
       "    }\n",
       "\n",
       "    .dataframe thead th {\n",
       "        text-align: right;\n",
       "    }\n",
       "</style>\n",
       "<table border=\"1\" class=\"dataframe\">\n",
       "  <thead>\n",
       "    <tr style=\"text-align: right;\">\n",
       "      <th></th>\n",
       "      <th>threshold</th>\n",
       "      <th>tp</th>\n",
       "      <th>fp</th>\n",
       "      <th>fn</th>\n",
       "      <th>tn</th>\n",
       "      <th>precision</th>\n",
       "      <th>recall</th>\n",
       "      <th>F1_score</th>\n",
       "    </tr>\n",
       "  </thead>\n",
       "  <tbody>\n",
       "    <tr>\n",
       "      <th>0</th>\n",
       "      <td>0.00</td>\n",
       "      <td>1098</td>\n",
       "      <td>7944</td>\n",
       "      <td>0</td>\n",
       "      <td>0</td>\n",
       "      <td>0.121</td>\n",
       "      <td>1.000</td>\n",
       "      <td>0.215879</td>\n",
       "    </tr>\n",
       "    <tr>\n",
       "      <th>1</th>\n",
       "      <td>0.01</td>\n",
       "      <td>1094</td>\n",
       "      <td>6958</td>\n",
       "      <td>4</td>\n",
       "      <td>986</td>\n",
       "      <td>0.136</td>\n",
       "      <td>0.996</td>\n",
       "      <td>0.239322</td>\n",
       "    </tr>\n",
       "    <tr>\n",
       "      <th>2</th>\n",
       "      <td>0.02</td>\n",
       "      <td>1093</td>\n",
       "      <td>5764</td>\n",
       "      <td>5</td>\n",
       "      <td>2180</td>\n",
       "      <td>0.159</td>\n",
       "      <td>0.995</td>\n",
       "      <td>0.274185</td>\n",
       "    </tr>\n",
       "    <tr>\n",
       "      <th>3</th>\n",
       "      <td>0.03</td>\n",
       "      <td>1086</td>\n",
       "      <td>4733</td>\n",
       "      <td>12</td>\n",
       "      <td>3211</td>\n",
       "      <td>0.187</td>\n",
       "      <td>0.989</td>\n",
       "      <td>0.314529</td>\n",
       "    </tr>\n",
       "    <tr>\n",
       "      <th>4</th>\n",
       "      <td>0.04</td>\n",
       "      <td>1067</td>\n",
       "      <td>3776</td>\n",
       "      <td>31</td>\n",
       "      <td>4168</td>\n",
       "      <td>0.220</td>\n",
       "      <td>0.972</td>\n",
       "      <td>0.358792</td>\n",
       "    </tr>\n",
       "    <tr>\n",
       "      <th>...</th>\n",
       "      <td>...</td>\n",
       "      <td>...</td>\n",
       "      <td>...</td>\n",
       "      <td>...</td>\n",
       "      <td>...</td>\n",
       "      <td>...</td>\n",
       "      <td>...</td>\n",
       "      <td>...</td>\n",
       "    </tr>\n",
       "    <tr>\n",
       "      <th>95</th>\n",
       "      <td>0.95</td>\n",
       "      <td>39</td>\n",
       "      <td>19</td>\n",
       "      <td>1059</td>\n",
       "      <td>7925</td>\n",
       "      <td>0.672</td>\n",
       "      <td>0.036</td>\n",
       "      <td>0.068339</td>\n",
       "    </tr>\n",
       "    <tr>\n",
       "      <th>96</th>\n",
       "      <td>0.96</td>\n",
       "      <td>32</td>\n",
       "      <td>17</td>\n",
       "      <td>1066</td>\n",
       "      <td>7927</td>\n",
       "      <td>0.653</td>\n",
       "      <td>0.029</td>\n",
       "      <td>0.055534</td>\n",
       "    </tr>\n",
       "    <tr>\n",
       "      <th>97</th>\n",
       "      <td>0.97</td>\n",
       "      <td>25</td>\n",
       "      <td>15</td>\n",
       "      <td>1073</td>\n",
       "      <td>7929</td>\n",
       "      <td>0.625</td>\n",
       "      <td>0.023</td>\n",
       "      <td>0.044367</td>\n",
       "    </tr>\n",
       "    <tr>\n",
       "      <th>98</th>\n",
       "      <td>0.98</td>\n",
       "      <td>22</td>\n",
       "      <td>10</td>\n",
       "      <td>1076</td>\n",
       "      <td>7934</td>\n",
       "      <td>0.688</td>\n",
       "      <td>0.020</td>\n",
       "      <td>0.038870</td>\n",
       "    </tr>\n",
       "    <tr>\n",
       "      <th>99</th>\n",
       "      <td>0.99</td>\n",
       "      <td>10</td>\n",
       "      <td>6</td>\n",
       "      <td>1088</td>\n",
       "      <td>7938</td>\n",
       "      <td>0.625</td>\n",
       "      <td>0.009</td>\n",
       "      <td>0.017744</td>\n",
       "    </tr>\n",
       "  </tbody>\n",
       "</table>\n",
       "<p>100 rows × 8 columns</p>\n",
       "</div>"
      ],
      "text/plain": [
       "    threshold    tp    fp    fn    tn  precision  recall  F1_score\n",
       "0        0.00  1098  7944     0     0      0.121   1.000  0.215879\n",
       "1        0.01  1094  6958     4   986      0.136   0.996  0.239322\n",
       "2        0.02  1093  5764     5  2180      0.159   0.995  0.274185\n",
       "3        0.03  1086  4733    12  3211      0.187   0.989  0.314529\n",
       "4        0.04  1067  3776    31  4168      0.220   0.972  0.358792\n",
       "..        ...   ...   ...   ...   ...        ...     ...       ...\n",
       "95       0.95    39    19  1059  7925      0.672   0.036  0.068339\n",
       "96       0.96    32    17  1066  7927      0.653   0.029  0.055534\n",
       "97       0.97    25    15  1073  7929      0.625   0.023  0.044367\n",
       "98       0.98    22    10  1076  7934      0.688   0.020  0.038870\n",
       "99       0.99    10     6  1088  7938      0.625   0.009  0.017744\n",
       "\n",
       "[100 rows x 8 columns]"
      ]
     },
     "execution_count": 240,
     "metadata": {},
     "output_type": "execute_result"
    }
   ],
   "source": [
    "df_scores"
   ]
  },
  {
   "cell_type": "code",
   "execution_count": 244,
   "id": "8c7dc899-d117-40c4-aaf9-412fb3653afc",
   "metadata": {},
   "outputs": [
    {
     "data": {
      "text/plain": [
       "threshold       0.2200\n",
       "tp            691.0000\n",
       "fp            620.0000\n",
       "fn            407.0000\n",
       "tn           7324.0000\n",
       "precision       0.5270\n",
       "recall          0.6290\n",
       "F1_score        0.5735\n",
       "Name: 22, dtype: float64"
      ]
     },
     "execution_count": 244,
     "metadata": {},
     "output_type": "execute_result"
    }
   ],
   "source": [
    "max_row_idx = df_scores['F1_score'].idxmax()\n",
    "df_scores.iloc[max_row_idx]"
   ]
  },
  {
   "cell_type": "code",
   "execution_count": 245,
   "id": "7a869ca8-9d20-4d0a-ac76-9d567e8002b2",
   "metadata": {},
   "outputs": [
    {
     "name": "stdout",
     "output_type": "stream",
     "text": [
      "F1 is maximal at threshold 0.22\n"
     ]
    }
   ],
   "source": [
    "print(f\"F1 is maximal at threshold {df_scores.iloc[max_row_idx].threshold}\")"
   ]
  },
  {
   "cell_type": "markdown",
   "id": "6a820699-bf39-4324-83d3-1e42dc812f0f",
   "metadata": {},
   "source": [
    "### Question 5: 5-Fold CV\n",
    "\n",
    "\n",
    "Use the `KFold` class from Scikit-Learn to evaluate our model on 5 different folds:\n",
    "\n",
    "```\n",
    "KFold(n_splits=5, shuffle=True, random_state=1)\n",
    "```\n",
    "\n",
    "* Iterate over different folds of `df_full_train`\n",
    "* Split the data into train and validation\n",
    "* Train the model on train with these parameters: `LogisticRegression(solver='liblinear', C=1.0, max_iter=1000)`\n",
    "* Use AUC to evaluate the model on validation\n",
    "\n",
    "How large is standard deviation of the scores across different folds?\n",
    "\n",
    "- 0.0001\n",
    "- 0.006\n",
    "- 0.06\n",
    "- 0.26"
   ]
  },
  {
   "cell_type": "code",
   "execution_count": 247,
   "id": "e51791af-6aff-4291-bf57-b7ab74c3ed76",
   "metadata": {},
   "outputs": [],
   "source": [
    "from sklearn.model_selection import KFold\n",
    "from tqdm.auto import tqdm"
   ]
  },
  {
   "cell_type": "code",
   "execution_count": 250,
   "id": "1fce87a5-5c8e-423e-96d7-44babbe78c1e",
   "metadata": {},
   "outputs": [
    {
     "data": {
      "application/vnd.jupyter.widget-view+json": {
       "model_id": "89153c1f32dc42e191ff9f1592a78f8c",
       "version_major": 2,
       "version_minor": 0
      },
      "text/plain": [
       "0it [00:00, ?it/s]"
      ]
     },
     "metadata": {},
     "output_type": "display_data"
    }
   ],
   "source": [
    "scores = []\n",
    "Kfold = KFold(n_splits=5, shuffle=True, random_state = 1)\n",
    "for train_idx, val_idx in tqdm(Kfold.split(df_full_train)):\n",
    "    df_train = df_full_train.iloc[train_idx]\n",
    "    df_val = df_full_train.iloc[val_idx]\n",
    "\n",
    "    y_train = df_train.y.values\n",
    "    y_val = df_val.y.values\n",
    "    \n",
    "    dv, model = train(df_train, y_train)\n",
    "    y_pred = predict(df_val, dv, model)\n",
    "    \n",
    "    scores.append(roc_auc_score(y_val, y_pred))"
   ]
  },
  {
   "cell_type": "code",
   "execution_count": 251,
   "id": "4fd723c9-5727-46d3-ac6b-2246fd26569f",
   "metadata": {},
   "outputs": [
    {
     "name": "stdout",
     "output_type": "stream",
     "text": [
      "0.906 +- 0.006\n"
     ]
    }
   ],
   "source": [
    "print(\"%.3f +- %.3f\"% (np.mean(scores), np.std(scores)))"
   ]
  },
  {
   "cell_type": "markdown",
   "id": "61af0260-4d37-4651-8959-151805c90946",
   "metadata": {},
   "source": [
    "### Question 6: Hyperparameter Tuning\n",
    "\n",
    "Now let's use 5-Fold cross-validation to find the best parameter `C`\n",
    "\n",
    "* Iterate over the following `C` values: `[0.000001, 0.001, 1]`\n",
    "* Initialize `KFold` with the same parameters as previously\n",
    "* Use these parameters for the model: `LogisticRegression(solver='liblinear', C=C, max_iter=1000)`\n",
    "* Compute the mean score as well as the std (round the mean and std to 3 decimal digits)\n",
    "\n",
    "Which `C` leads to the best mean score?\n",
    "\n",
    "- 0.000001\n",
    "- 0.001\n",
    "- 1\n",
    "\n",
    "If you have ties, select the score with the lowest std. If you still have ties, select the smallest `C`."
   ]
  },
  {
   "cell_type": "code",
   "execution_count": 252,
   "id": "e8fc5dd6-6caf-45d6-a890-beea8709741f",
   "metadata": {},
   "outputs": [],
   "source": [
    "def train(df, y_train, c=1.0):\n",
    "    dicts = df[categorical + numerical].to_dict(orient = 'records')\n",
    "\n",
    "    dv = DictVectorizer(sparse = False)\n",
    "    X_train = dv.fit_transform(dicts)\n",
    "    \n",
    "    model = LogisticRegression(max_iter=100000,C=c)\n",
    "    model.fit(X_train, y_train)\n",
    "\n",
    "    return dv, model"
   ]
  },
  {
   "cell_type": "code",
   "execution_count": 255,
   "id": "dbd6c12d-c272-4603-b046-1dd21c4da57b",
   "metadata": {},
   "outputs": [
    {
     "data": {
      "application/vnd.jupyter.widget-view+json": {
       "model_id": "a489b6d4503a48fe94075fbf3e55ebbc",
       "version_major": 2,
       "version_minor": 0
      },
      "text/plain": [
       "  0%|          | 0/3 [00:00<?, ?it/s]"
      ]
     },
     "metadata": {},
     "output_type": "display_data"
    },
    {
     "name": "stdout",
     "output_type": "stream",
     "text": [
      "C=1e-06 0.824 +- 0.009\n",
      "C=0.001 0.886 +- 0.005\n",
      "C=1 0.906 +- 0.006\n"
     ]
    }
   ],
   "source": [
    "n_splits = 5\n",
    "\n",
    "for C in tqdm([0.000001, 0.001, 1]):\n",
    "    kfold = KFold(n_splits=n_splits, shuffle=True, random_state=1)\n",
    "\n",
    "    scores = []\n",
    "\n",
    "    for train_idx, val_idx in kfold.split(df_full_train):\n",
    "        df_train = df_full_train.iloc[train_idx]\n",
    "        df_val = df_full_train.iloc[val_idx]\n",
    "\n",
    "        y_train = df_train.y.values\n",
    "        y_val = df_val.y.values\n",
    "\n",
    "        dv, model = train(df_train, y_train, c=C)\n",
    "        y_pred = predict(df_val, dv, model)\n",
    "\n",
    "        auc = roc_auc_score(y_val, y_pred)\n",
    "        scores.append(auc)\n",
    "\n",
    "    print('C=%s %.3f +- %.3f' % (C, np.mean(scores), np.std(scores)))"
   ]
  },
  {
   "cell_type": "markdown",
   "id": "9ebf5052-bd19-4024-8f54-a6f09adc81a2",
   "metadata": {},
   "source": [
    "The best mean score is 0.906 for c=1."
   ]
  },
  {
   "cell_type": "code",
   "execution_count": null,
   "id": "008af86a-cf99-43a3-b316-cdbd96851791",
   "metadata": {},
   "outputs": [],
   "source": []
  }
 ],
 "metadata": {
  "kernelspec": {
   "display_name": "Python 3 (ipykernel)",
   "language": "python",
   "name": "python3"
  },
  "language_info": {
   "codemirror_mode": {
    "name": "ipython",
    "version": 3
   },
   "file_extension": ".py",
   "mimetype": "text/x-python",
   "name": "python",
   "nbconvert_exporter": "python",
   "pygments_lexer": "ipython3",
   "version": "3.12.4"
  }
 },
 "nbformat": 4,
 "nbformat_minor": 5
}
