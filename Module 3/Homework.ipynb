{
 "cells": [
  {
   "cell_type": "code",
   "execution_count": 344,
   "id": "a0f4a262-9381-4799-a471-d1b1a55d5073",
   "metadata": {},
   "outputs": [],
   "source": [
    "import pandas as pd\n",
    "from zipfile import ZipFile\n",
    "import numpy as np"
   ]
  },
  {
   "cell_type": "markdown",
   "id": "bcb47517-799b-4ca1-8d8c-2ee8836fff95",
   "metadata": {},
   "source": [
    "### Dataset\n",
    "\n",
    "In this homework, we will use the Bank Marketing dataset. Download it from [here](https://archive.ics.uci.edu/static/public/222/bank+marketing.zip).\n",
    "\n",
    "Or you can do it with `wget`:\n",
    "\n",
    "```bash\n",
    "wget https://archive.ics.uci.edu/static/public/222/bank+marketing.zip\n",
    "```\n",
    "\n",
    "We need to take `bank/bank-full.csv` file from the downloaded zip-file.  \n",
    "In this dataset our desired target for classification task will be `y` variable - has the client subscribed a term deposit or not. "
   ]
  },
  {
   "cell_type": "code",
   "execution_count": 345,
   "id": "0baada60-6413-4f28-9f53-b170abb90cab",
   "metadata": {},
   "outputs": [],
   "source": [
    "data = 'https://archive.ics.uci.edu/static/public/222/bank+marketing.zip'"
   ]
  },
  {
   "cell_type": "code",
   "execution_count": 346,
   "id": "cfabb291-482b-413f-9d31-f44bef25ec22",
   "metadata": {},
   "outputs": [
    {
     "name": "stdout",
     "output_type": "stream",
     "text": [
      "--2024-10-14 11:24:45--  https://archive.ics.uci.edu/static/public/222/bank+marketing.zip\n",
      "Resolving archive.ics.uci.edu (archive.ics.uci.edu)... 128.195.10.252\n",
      "Connecting to archive.ics.uci.edu (archive.ics.uci.edu)|128.195.10.252|:443... connected.\n",
      "HTTP request sent, awaiting response... 200 OK\n",
      "Length: unspecified\n",
      "Saving to: ‘bank+marketing.zip’\n",
      "\n",
      "bank+marketing.zip      [            <=>     ] 999.85K   215KB/s    in 4.8s    \n",
      "\n",
      "2024-10-14 11:24:51 (208 KB/s) - ‘bank+marketing.zip’ saved [1023843]\n",
      "\n"
     ]
    }
   ],
   "source": [
    "!wget $data"
   ]
  },
  {
   "cell_type": "code",
   "execution_count": 347,
   "id": "caa5e54f-22bf-4de5-a8d8-daf803ff6b09",
   "metadata": {},
   "outputs": [],
   "source": [
    "zf = ZipFile('bank+marketing.zip', 'r')\n",
    "zf.extractall('bank+marketing')\n",
    "zf.close()"
   ]
  },
  {
   "cell_type": "code",
   "execution_count": 352,
   "id": "1422a910-716a-42ff-abcf-c54b10dbe649",
   "metadata": {},
   "outputs": [],
   "source": [
    "zf = ZipFile('bank+marketing/bank.zip', 'r')\n",
    "zf.extractall('bank')\n",
    "zf.close()"
   ]
  },
  {
   "cell_type": "code",
   "execution_count": 433,
   "id": "9c3fb89c-3121-4dac-9a2a-69c3672aab8e",
   "metadata": {},
   "outputs": [],
   "source": [
    "import pandas as pd\n",
    "import numpy as np"
   ]
  },
  {
   "cell_type": "code",
   "execution_count": 434,
   "id": "6195a9f8-38af-4599-9d2e-5dec17de13fe",
   "metadata": {},
   "outputs": [
    {
     "data": {
      "text/html": [
       "<div>\n",
       "<style scoped>\n",
       "    .dataframe tbody tr th:only-of-type {\n",
       "        vertical-align: middle;\n",
       "    }\n",
       "\n",
       "    .dataframe tbody tr th {\n",
       "        vertical-align: top;\n",
       "    }\n",
       "\n",
       "    .dataframe thead th {\n",
       "        text-align: right;\n",
       "    }\n",
       "</style>\n",
       "<table border=\"1\" class=\"dataframe\">\n",
       "  <thead>\n",
       "    <tr style=\"text-align: right;\">\n",
       "      <th></th>\n",
       "      <th>age</th>\n",
       "      <th>job</th>\n",
       "      <th>marital</th>\n",
       "      <th>education</th>\n",
       "      <th>default</th>\n",
       "      <th>balance</th>\n",
       "      <th>housing</th>\n",
       "      <th>loan</th>\n",
       "      <th>contact</th>\n",
       "      <th>day</th>\n",
       "      <th>month</th>\n",
       "      <th>duration</th>\n",
       "      <th>campaign</th>\n",
       "      <th>pdays</th>\n",
       "      <th>previous</th>\n",
       "      <th>poutcome</th>\n",
       "      <th>y</th>\n",
       "    </tr>\n",
       "  </thead>\n",
       "  <tbody>\n",
       "    <tr>\n",
       "      <th>0</th>\n",
       "      <td>58</td>\n",
       "      <td>management</td>\n",
       "      <td>married</td>\n",
       "      <td>tertiary</td>\n",
       "      <td>no</td>\n",
       "      <td>2143</td>\n",
       "      <td>yes</td>\n",
       "      <td>no</td>\n",
       "      <td>unknown</td>\n",
       "      <td>5</td>\n",
       "      <td>may</td>\n",
       "      <td>261</td>\n",
       "      <td>1</td>\n",
       "      <td>-1</td>\n",
       "      <td>0</td>\n",
       "      <td>unknown</td>\n",
       "      <td>no</td>\n",
       "    </tr>\n",
       "    <tr>\n",
       "      <th>1</th>\n",
       "      <td>44</td>\n",
       "      <td>technician</td>\n",
       "      <td>single</td>\n",
       "      <td>secondary</td>\n",
       "      <td>no</td>\n",
       "      <td>29</td>\n",
       "      <td>yes</td>\n",
       "      <td>no</td>\n",
       "      <td>unknown</td>\n",
       "      <td>5</td>\n",
       "      <td>may</td>\n",
       "      <td>151</td>\n",
       "      <td>1</td>\n",
       "      <td>-1</td>\n",
       "      <td>0</td>\n",
       "      <td>unknown</td>\n",
       "      <td>no</td>\n",
       "    </tr>\n",
       "    <tr>\n",
       "      <th>2</th>\n",
       "      <td>33</td>\n",
       "      <td>entrepreneur</td>\n",
       "      <td>married</td>\n",
       "      <td>secondary</td>\n",
       "      <td>no</td>\n",
       "      <td>2</td>\n",
       "      <td>yes</td>\n",
       "      <td>yes</td>\n",
       "      <td>unknown</td>\n",
       "      <td>5</td>\n",
       "      <td>may</td>\n",
       "      <td>76</td>\n",
       "      <td>1</td>\n",
       "      <td>-1</td>\n",
       "      <td>0</td>\n",
       "      <td>unknown</td>\n",
       "      <td>no</td>\n",
       "    </tr>\n",
       "    <tr>\n",
       "      <th>3</th>\n",
       "      <td>47</td>\n",
       "      <td>blue-collar</td>\n",
       "      <td>married</td>\n",
       "      <td>unknown</td>\n",
       "      <td>no</td>\n",
       "      <td>1506</td>\n",
       "      <td>yes</td>\n",
       "      <td>no</td>\n",
       "      <td>unknown</td>\n",
       "      <td>5</td>\n",
       "      <td>may</td>\n",
       "      <td>92</td>\n",
       "      <td>1</td>\n",
       "      <td>-1</td>\n",
       "      <td>0</td>\n",
       "      <td>unknown</td>\n",
       "      <td>no</td>\n",
       "    </tr>\n",
       "    <tr>\n",
       "      <th>4</th>\n",
       "      <td>33</td>\n",
       "      <td>unknown</td>\n",
       "      <td>single</td>\n",
       "      <td>unknown</td>\n",
       "      <td>no</td>\n",
       "      <td>1</td>\n",
       "      <td>no</td>\n",
       "      <td>no</td>\n",
       "      <td>unknown</td>\n",
       "      <td>5</td>\n",
       "      <td>may</td>\n",
       "      <td>198</td>\n",
       "      <td>1</td>\n",
       "      <td>-1</td>\n",
       "      <td>0</td>\n",
       "      <td>unknown</td>\n",
       "      <td>no</td>\n",
       "    </tr>\n",
       "  </tbody>\n",
       "</table>\n",
       "</div>"
      ],
      "text/plain": [
       "   age           job  marital  education default  balance housing loan  \\\n",
       "0   58    management  married   tertiary      no     2143     yes   no   \n",
       "1   44    technician   single  secondary      no       29     yes   no   \n",
       "2   33  entrepreneur  married  secondary      no        2     yes  yes   \n",
       "3   47   blue-collar  married    unknown      no     1506     yes   no   \n",
       "4   33       unknown   single    unknown      no        1      no   no   \n",
       "\n",
       "   contact  day month  duration  campaign  pdays  previous poutcome   y  \n",
       "0  unknown    5   may       261         1     -1         0  unknown  no  \n",
       "1  unknown    5   may       151         1     -1         0  unknown  no  \n",
       "2  unknown    5   may        76         1     -1         0  unknown  no  \n",
       "3  unknown    5   may        92         1     -1         0  unknown  no  \n",
       "4  unknown    5   may       198         1     -1         0  unknown  no  "
      ]
     },
     "execution_count": 434,
     "metadata": {},
     "output_type": "execute_result"
    }
   ],
   "source": [
    "df = pd.read_csv(\"bank/bank-full.csv\", sep = \";\")\n",
    "df.head()"
   ]
  },
  {
   "cell_type": "markdown",
   "id": "633337e4-a58f-4489-83aa-9e617270ac00",
   "metadata": {},
   "source": [
    "### Features\n",
    "\n",
    "For the rest of the homework, you'll need to use only these columns:\n",
    "\n",
    "* `age`,\n",
    "* `job`,\n",
    "* `marital`,\n",
    "* `education`,\n",
    "* `balance`,\n",
    "* `housing`,\n",
    "* `contact`,\n",
    "* `day`,\n",
    "* `month`,\n",
    "* `duration`,\n",
    "* `campaign`,\n",
    "* `pdays`,\n",
    "* `previous`,\n",
    "* `poutcome`,\n",
    "* `y`"
   ]
  },
  {
   "cell_type": "markdown",
   "id": "357d7aed-5fe7-40cb-8da7-ffd55f83a46b",
   "metadata": {},
   "source": [
    "### Data preparation\n",
    "\n",
    "* Select only the features from above.\n",
    "* Check if the missing values are presented in the features."
   ]
  },
  {
   "cell_type": "code",
   "execution_count": 435,
   "id": "8fca9998-ee35-4426-913b-b0c000b51ae9",
   "metadata": {},
   "outputs": [],
   "source": [
    "features = ['age','job','marital','education','balance','housing','contact','day','month','duration','campaign',\n",
    "            'pdays','previous','poutcome','y']\n",
    "df_new = df[features].copy()"
   ]
  },
  {
   "cell_type": "code",
   "execution_count": 436,
   "id": "5f82e155-1a59-4cc8-a383-1c617f6dcdc5",
   "metadata": {},
   "outputs": [
    {
     "data": {
      "text/plain": [
       "age          0\n",
       "job          0\n",
       "marital      0\n",
       "education    0\n",
       "balance      0\n",
       "housing      0\n",
       "contact      0\n",
       "day          0\n",
       "month        0\n",
       "duration     0\n",
       "campaign     0\n",
       "pdays        0\n",
       "previous     0\n",
       "poutcome     0\n",
       "y            0\n",
       "dtype: int64"
      ]
     },
     "execution_count": 436,
     "metadata": {},
     "output_type": "execute_result"
    }
   ],
   "source": [
    "df_new.isnull().sum()"
   ]
  },
  {
   "cell_type": "code",
   "execution_count": 437,
   "id": "d1369630-1040-429a-892a-d716c6cba2ea",
   "metadata": {},
   "outputs": [
    {
     "data": {
      "text/plain": [
       "age          0\n",
       "job          0\n",
       "marital      0\n",
       "education    0\n",
       "balance      0\n",
       "housing      0\n",
       "contact      0\n",
       "day          0\n",
       "month        0\n",
       "duration     0\n",
       "campaign     0\n",
       "pdays        0\n",
       "previous     0\n",
       "poutcome     0\n",
       "y            0\n",
       "dtype: int64"
      ]
     },
     "execution_count": 437,
     "metadata": {},
     "output_type": "execute_result"
    }
   ],
   "source": [
    "(df_new==\"-\").sum()"
   ]
  },
  {
   "cell_type": "code",
   "execution_count": 438,
   "id": "ba1a750d-396a-44c9-b056-ef996206a27a",
   "metadata": {},
   "outputs": [],
   "source": [
    "df_new.columns = df_new.columns.str.lower().str.replace(' ','_')"
   ]
  },
  {
   "cell_type": "code",
   "execution_count": 439,
   "id": "b2b8418e-3bd3-4476-8fde-712d8d8bfa44",
   "metadata": {},
   "outputs": [
    {
     "data": {
      "text/plain": [
       "Index(['job', 'marital', 'education', 'housing', 'contact', 'month',\n",
       "       'poutcome', 'y'],\n",
       "      dtype='object')"
      ]
     },
     "execution_count": 439,
     "metadata": {},
     "output_type": "execute_result"
    }
   ],
   "source": [
    "df_new.dtypes[df_new.dtypes=='object'].index"
   ]
  },
  {
   "cell_type": "code",
   "execution_count": 440,
   "id": "9cf82954-b547-4094-8ee2-b4f684406b3a",
   "metadata": {},
   "outputs": [],
   "source": [
    "categorical_columns = list(df_new.dtypes[df_new.dtypes=='object'].index)\n",
    "\n",
    "for c in categorical_columns:\n",
    "    df_new[c]=df_new[c].str.lower().str.replace(' ','_')\n",
    "categorical_columns.remove('y')"
   ]
  },
  {
   "cell_type": "code",
   "execution_count": 441,
   "id": "443ca283-5f22-4017-893b-5ab0d76030e7",
   "metadata": {},
   "outputs": [
    {
     "data": {
      "text/html": [
       "<div>\n",
       "<style scoped>\n",
       "    .dataframe tbody tr th:only-of-type {\n",
       "        vertical-align: middle;\n",
       "    }\n",
       "\n",
       "    .dataframe tbody tr th {\n",
       "        vertical-align: top;\n",
       "    }\n",
       "\n",
       "    .dataframe thead th {\n",
       "        text-align: right;\n",
       "    }\n",
       "</style>\n",
       "<table border=\"1\" class=\"dataframe\">\n",
       "  <thead>\n",
       "    <tr style=\"text-align: right;\">\n",
       "      <th></th>\n",
       "      <th>age</th>\n",
       "      <th>job</th>\n",
       "      <th>marital</th>\n",
       "      <th>education</th>\n",
       "      <th>balance</th>\n",
       "      <th>housing</th>\n",
       "      <th>contact</th>\n",
       "      <th>day</th>\n",
       "      <th>month</th>\n",
       "      <th>duration</th>\n",
       "      <th>campaign</th>\n",
       "      <th>pdays</th>\n",
       "      <th>previous</th>\n",
       "      <th>poutcome</th>\n",
       "      <th>y</th>\n",
       "    </tr>\n",
       "  </thead>\n",
       "  <tbody>\n",
       "    <tr>\n",
       "      <th>0</th>\n",
       "      <td>58</td>\n",
       "      <td>management</td>\n",
       "      <td>married</td>\n",
       "      <td>tertiary</td>\n",
       "      <td>2143</td>\n",
       "      <td>yes</td>\n",
       "      <td>unknown</td>\n",
       "      <td>5</td>\n",
       "      <td>may</td>\n",
       "      <td>261</td>\n",
       "      <td>1</td>\n",
       "      <td>-1</td>\n",
       "      <td>0</td>\n",
       "      <td>unknown</td>\n",
       "      <td>no</td>\n",
       "    </tr>\n",
       "    <tr>\n",
       "      <th>1</th>\n",
       "      <td>44</td>\n",
       "      <td>technician</td>\n",
       "      <td>single</td>\n",
       "      <td>secondary</td>\n",
       "      <td>29</td>\n",
       "      <td>yes</td>\n",
       "      <td>unknown</td>\n",
       "      <td>5</td>\n",
       "      <td>may</td>\n",
       "      <td>151</td>\n",
       "      <td>1</td>\n",
       "      <td>-1</td>\n",
       "      <td>0</td>\n",
       "      <td>unknown</td>\n",
       "      <td>no</td>\n",
       "    </tr>\n",
       "    <tr>\n",
       "      <th>2</th>\n",
       "      <td>33</td>\n",
       "      <td>entrepreneur</td>\n",
       "      <td>married</td>\n",
       "      <td>secondary</td>\n",
       "      <td>2</td>\n",
       "      <td>yes</td>\n",
       "      <td>unknown</td>\n",
       "      <td>5</td>\n",
       "      <td>may</td>\n",
       "      <td>76</td>\n",
       "      <td>1</td>\n",
       "      <td>-1</td>\n",
       "      <td>0</td>\n",
       "      <td>unknown</td>\n",
       "      <td>no</td>\n",
       "    </tr>\n",
       "    <tr>\n",
       "      <th>3</th>\n",
       "      <td>47</td>\n",
       "      <td>blue-collar</td>\n",
       "      <td>married</td>\n",
       "      <td>unknown</td>\n",
       "      <td>1506</td>\n",
       "      <td>yes</td>\n",
       "      <td>unknown</td>\n",
       "      <td>5</td>\n",
       "      <td>may</td>\n",
       "      <td>92</td>\n",
       "      <td>1</td>\n",
       "      <td>-1</td>\n",
       "      <td>0</td>\n",
       "      <td>unknown</td>\n",
       "      <td>no</td>\n",
       "    </tr>\n",
       "    <tr>\n",
       "      <th>4</th>\n",
       "      <td>33</td>\n",
       "      <td>unknown</td>\n",
       "      <td>single</td>\n",
       "      <td>unknown</td>\n",
       "      <td>1</td>\n",
       "      <td>no</td>\n",
       "      <td>unknown</td>\n",
       "      <td>5</td>\n",
       "      <td>may</td>\n",
       "      <td>198</td>\n",
       "      <td>1</td>\n",
       "      <td>-1</td>\n",
       "      <td>0</td>\n",
       "      <td>unknown</td>\n",
       "      <td>no</td>\n",
       "    </tr>\n",
       "  </tbody>\n",
       "</table>\n",
       "</div>"
      ],
      "text/plain": [
       "   age           job  marital  education  balance housing  contact  day month  \\\n",
       "0   58    management  married   tertiary     2143     yes  unknown    5   may   \n",
       "1   44    technician   single  secondary       29     yes  unknown    5   may   \n",
       "2   33  entrepreneur  married  secondary        2     yes  unknown    5   may   \n",
       "3   47   blue-collar  married    unknown     1506     yes  unknown    5   may   \n",
       "4   33       unknown   single    unknown        1      no  unknown    5   may   \n",
       "\n",
       "   duration  campaign  pdays  previous poutcome   y  \n",
       "0       261         1     -1         0  unknown  no  \n",
       "1       151         1     -1         0  unknown  no  \n",
       "2        76         1     -1         0  unknown  no  \n",
       "3        92         1     -1         0  unknown  no  \n",
       "4       198         1     -1         0  unknown  no  "
      ]
     },
     "execution_count": 441,
     "metadata": {},
     "output_type": "execute_result"
    }
   ],
   "source": [
    "df_new.head()"
   ]
  },
  {
   "cell_type": "markdown",
   "id": "259315f3-2e0a-44d4-820c-8e9ad55dfd2e",
   "metadata": {},
   "source": [
    "### Question 1\n",
    "\n",
    "What is the most frequent observation (mode) for the column `education`?\n",
    "\n",
    "- `unknown`\n",
    "- `primary`\n",
    "- `secondary`\n",
    "- `tertiary`\n"
   ]
  },
  {
   "cell_type": "code",
   "execution_count": 442,
   "id": "a195131e-2837-49e5-98c7-9b58d1d469ce",
   "metadata": {},
   "outputs": [
    {
     "name": "stdout",
     "output_type": "stream",
     "text": [
      "The most most frequent observation (mode) for the column 'education' is 'secondary'.\n"
     ]
    }
   ],
   "source": [
    "print(f\"The most most frequent observation (mode) for the column 'education' is '{df['education'].mode()[0]}'.\")"
   ]
  },
  {
   "cell_type": "markdown",
   "id": "e6effac7-2c12-44fd-8721-c72472666cc4",
   "metadata": {},
   "source": [
    "### Question 2\n",
    "\n",
    "Create the [correlation matrix](https://www.google.com/search?q=correlation+matrix) for the numerical features of your dataset. \n",
    "In a correlation matrix, you compute the correlation coefficient between every pair of features.\n",
    "\n",
    "What are the two features that have the biggest correlation?\n",
    "\n",
    "- `age` and `balance`\n",
    "- `day` and `campaign`\n",
    "- `day` and `pdays`\n",
    "- `pdays` and `previous`"
   ]
  },
  {
   "cell_type": "code",
   "execution_count": 443,
   "id": "ffa58d40-9d9d-4931-9f42-ec5e6ce91642",
   "metadata": {},
   "outputs": [
    {
     "data": {
      "text/plain": [
       "['job', 'marital', 'education', 'housing', 'contact', 'month', 'poutcome']"
      ]
     },
     "execution_count": 443,
     "metadata": {},
     "output_type": "execute_result"
    }
   ],
   "source": [
    "categorical_columns"
   ]
  },
  {
   "cell_type": "code",
   "execution_count": 444,
   "id": "2a3a70a6-dd84-45f8-bd26-2ea0b3c9f0d4",
   "metadata": {},
   "outputs": [],
   "source": [
    "numerical_columns = list(set(features)-set(categorical_columns))\n",
    "numerical_columns.remove('y')"
   ]
  },
  {
   "cell_type": "code",
   "execution_count": 445,
   "id": "312fcaaa-84ef-438d-997f-23d2516412f2",
   "metadata": {},
   "outputs": [
    {
     "data": {
      "text/html": [
       "<div>\n",
       "<style scoped>\n",
       "    .dataframe tbody tr th:only-of-type {\n",
       "        vertical-align: middle;\n",
       "    }\n",
       "\n",
       "    .dataframe tbody tr th {\n",
       "        vertical-align: top;\n",
       "    }\n",
       "\n",
       "    .dataframe thead th {\n",
       "        text-align: right;\n",
       "    }\n",
       "</style>\n",
       "<table border=\"1\" class=\"dataframe\">\n",
       "  <thead>\n",
       "    <tr style=\"text-align: right;\">\n",
       "      <th></th>\n",
       "      <th>pdays</th>\n",
       "      <th>age</th>\n",
       "      <th>campaign</th>\n",
       "      <th>balance</th>\n",
       "      <th>previous</th>\n",
       "      <th>duration</th>\n",
       "      <th>day</th>\n",
       "    </tr>\n",
       "  </thead>\n",
       "  <tbody>\n",
       "    <tr>\n",
       "      <th>pdays</th>\n",
       "      <td>1.000000</td>\n",
       "      <td>-0.023758</td>\n",
       "      <td>-0.088628</td>\n",
       "      <td>0.003435</td>\n",
       "      <td>0.454820</td>\n",
       "      <td>-0.001565</td>\n",
       "      <td>-0.093044</td>\n",
       "    </tr>\n",
       "    <tr>\n",
       "      <th>age</th>\n",
       "      <td>-0.023758</td>\n",
       "      <td>1.000000</td>\n",
       "      <td>0.004760</td>\n",
       "      <td>0.097783</td>\n",
       "      <td>0.001288</td>\n",
       "      <td>-0.004648</td>\n",
       "      <td>-0.009120</td>\n",
       "    </tr>\n",
       "    <tr>\n",
       "      <th>campaign</th>\n",
       "      <td>-0.088628</td>\n",
       "      <td>0.004760</td>\n",
       "      <td>1.000000</td>\n",
       "      <td>-0.014578</td>\n",
       "      <td>-0.032855</td>\n",
       "      <td>-0.084570</td>\n",
       "      <td>0.162490</td>\n",
       "    </tr>\n",
       "    <tr>\n",
       "      <th>balance</th>\n",
       "      <td>0.003435</td>\n",
       "      <td>0.097783</td>\n",
       "      <td>-0.014578</td>\n",
       "      <td>1.000000</td>\n",
       "      <td>0.016674</td>\n",
       "      <td>0.021560</td>\n",
       "      <td>0.004503</td>\n",
       "    </tr>\n",
       "    <tr>\n",
       "      <th>previous</th>\n",
       "      <td>0.454820</td>\n",
       "      <td>0.001288</td>\n",
       "      <td>-0.032855</td>\n",
       "      <td>0.016674</td>\n",
       "      <td>1.000000</td>\n",
       "      <td>0.001203</td>\n",
       "      <td>-0.051710</td>\n",
       "    </tr>\n",
       "    <tr>\n",
       "      <th>duration</th>\n",
       "      <td>-0.001565</td>\n",
       "      <td>-0.004648</td>\n",
       "      <td>-0.084570</td>\n",
       "      <td>0.021560</td>\n",
       "      <td>0.001203</td>\n",
       "      <td>1.000000</td>\n",
       "      <td>-0.030206</td>\n",
       "    </tr>\n",
       "    <tr>\n",
       "      <th>day</th>\n",
       "      <td>-0.093044</td>\n",
       "      <td>-0.009120</td>\n",
       "      <td>0.162490</td>\n",
       "      <td>0.004503</td>\n",
       "      <td>-0.051710</td>\n",
       "      <td>-0.030206</td>\n",
       "      <td>1.000000</td>\n",
       "    </tr>\n",
       "  </tbody>\n",
       "</table>\n",
       "</div>"
      ],
      "text/plain": [
       "             pdays       age  campaign   balance  previous  duration       day\n",
       "pdays     1.000000 -0.023758 -0.088628  0.003435  0.454820 -0.001565 -0.093044\n",
       "age      -0.023758  1.000000  0.004760  0.097783  0.001288 -0.004648 -0.009120\n",
       "campaign -0.088628  0.004760  1.000000 -0.014578 -0.032855 -0.084570  0.162490\n",
       "balance   0.003435  0.097783 -0.014578  1.000000  0.016674  0.021560  0.004503\n",
       "previous  0.454820  0.001288 -0.032855  0.016674  1.000000  0.001203 -0.051710\n",
       "duration -0.001565 -0.004648 -0.084570  0.021560  0.001203  1.000000 -0.030206\n",
       "day      -0.093044 -0.009120  0.162490  0.004503 -0.051710 -0.030206  1.000000"
      ]
     },
     "execution_count": 445,
     "metadata": {},
     "output_type": "execute_result"
    }
   ],
   "source": [
    "corr_matrix = df_new[numerical_columns].corr()\n",
    "corr_matrix"
   ]
  },
  {
   "cell_type": "code",
   "execution_count": 446,
   "id": "53fedf6e-8d88-4935-8cec-410d1c59c67d",
   "metadata": {},
   "outputs": [
    {
     "data": {
      "text/plain": [
       "(0.09778273937134807,\n",
       " 0.16249021632619218,\n",
       " -0.0930440737729405,\n",
       " 0.4548196354805043)"
      ]
     },
     "execution_count": 446,
     "metadata": {},
     "output_type": "execute_result"
    }
   ],
   "source": [
    "corr_matrix['age']['balance'], corr_matrix['day']['campaign'], corr_matrix['day']['pdays'], corr_matrix['pdays']['previous']"
   ]
  },
  {
   "cell_type": "code",
   "execution_count": 447,
   "id": "5061c702-43b8-406b-9dfb-f6f8583f1269",
   "metadata": {},
   "outputs": [
    {
     "data": {
      "text/plain": [
       "day       pdays      -0.093044\n",
       "pdays     day        -0.093044\n",
       "campaign  pdays      -0.088628\n",
       "pdays     campaign   -0.088628\n",
       "campaign  duration   -0.084570\n",
       "duration  campaign   -0.084570\n",
       "previous  day        -0.051710\n",
       "day       previous   -0.051710\n",
       "previous  campaign   -0.032855\n",
       "campaign  previous   -0.032855\n",
       "duration  day        -0.030206\n",
       "day       duration   -0.030206\n",
       "pdays     age        -0.023758\n",
       "age       pdays      -0.023758\n",
       "balance   campaign   -0.014578\n",
       "campaign  balance    -0.014578\n",
       "day       age        -0.009120\n",
       "age       day        -0.009120\n",
       "          duration   -0.004648\n",
       "duration  age        -0.004648\n",
       "pdays     duration   -0.001565\n",
       "duration  pdays      -0.001565\n",
       "previous  duration    0.001203\n",
       "duration  previous    0.001203\n",
       "age       previous    0.001288\n",
       "previous  age         0.001288\n",
       "balance   pdays       0.003435\n",
       "pdays     balance     0.003435\n",
       "balance   day         0.004503\n",
       "day       balance     0.004503\n",
       "campaign  age         0.004760\n",
       "age       campaign    0.004760\n",
       "balance   previous    0.016674\n",
       "previous  balance     0.016674\n",
       "duration  balance     0.021560\n",
       "balance   duration    0.021560\n",
       "          age         0.097783\n",
       "age       balance     0.097783\n",
       "day       campaign    0.162490\n",
       "campaign  day         0.162490\n",
       "previous  pdays       0.454820\n",
       "pdays     previous    0.454820\n",
       "          pdays       1.000000\n",
       "balance   balance     1.000000\n",
       "previous  previous    1.000000\n",
       "campaign  campaign    1.000000\n",
       "age       age         1.000000\n",
       "duration  duration    1.000000\n",
       "day       day         1.000000\n",
       "dtype: float64"
      ]
     },
     "execution_count": 447,
     "metadata": {},
     "output_type": "execute_result"
    }
   ],
   "source": [
    "s = corr_matrix.unstack()\n",
    "s.sort_values(kind='quicksort')"
   ]
  },
  {
   "cell_type": "code",
   "execution_count": 448,
   "id": "0480ba25-3336-4afa-99af-966b6789dd2f",
   "metadata": {},
   "outputs": [
    {
     "name": "stdout",
     "output_type": "stream",
     "text": [
      "The features 'pdays' and 'previous' have the biggest correlation: 0.4548196354805043\n"
     ]
    }
   ],
   "source": [
    "print(f\"The features 'pdays' and 'previous' have the biggest correlation: {corr_matrix['pdays']['previous']}\")"
   ]
  },
  {
   "cell_type": "markdown",
   "id": "f8594bfc-9cb2-4103-a7f3-3d01e0079985",
   "metadata": {},
   "source": [
    "### Target encoding\n",
    "\n",
    "* Now we want to encode the `y` variable.\n",
    "* Let's replace the values `yes`/`no` with `1`/`0`."
   ]
  },
  {
   "cell_type": "code",
   "execution_count": 449,
   "id": "1a1eabea-aca6-4083-a8b5-72a7d9a99243",
   "metadata": {},
   "outputs": [
    {
     "data": {
      "text/plain": [
       "0        0\n",
       "1        0\n",
       "2        0\n",
       "3        0\n",
       "4        0\n",
       "        ..\n",
       "45206    1\n",
       "45207    1\n",
       "45208    1\n",
       "45209    0\n",
       "45210    0\n",
       "Name: y, Length: 45211, dtype: int64"
      ]
     },
     "execution_count": 449,
     "metadata": {},
     "output_type": "execute_result"
    }
   ],
   "source": [
    "df_new.y = (df_new.y=='yes').astype(int)\n",
    "df_new.y"
   ]
  },
  {
   "cell_type": "markdown",
   "id": "e598bf28-6556-41bf-951b-23641e56fd0d",
   "metadata": {},
   "source": [
    "### Split the data\n",
    "\n",
    "* Split your data in train/val/test sets with 60%/20%/20% distribution.\n",
    "* Use Scikit-Learn for that (the `train_test_split` function) and set the seed to `42`.\n",
    "* Make sure that the target value `y` is not in your dataframe."
   ]
  },
  {
   "cell_type": "code",
   "execution_count": 450,
   "id": "e6c42556-ec7e-4b70-bcf9-03322a89bc2e",
   "metadata": {},
   "outputs": [],
   "source": [
    "from sklearn.model_selection import train_test_split"
   ]
  },
  {
   "cell_type": "code",
   "execution_count": 451,
   "id": "8a462ee8-0ed8-4550-aa53-0447736630b6",
   "metadata": {},
   "outputs": [],
   "source": [
    "df_full_train, df_test = train_test_split(df_new, test_size=0.2, random_state=42)"
   ]
  },
  {
   "cell_type": "code",
   "execution_count": 452,
   "id": "8df29e25-bf28-48f4-b080-bcc2b81ed089",
   "metadata": {},
   "outputs": [
    {
     "data": {
      "text/plain": [
       "(36168, 9043)"
      ]
     },
     "execution_count": 452,
     "metadata": {},
     "output_type": "execute_result"
    }
   ],
   "source": [
    "len(df_full_train), len(df_test)"
   ]
  },
  {
   "cell_type": "code",
   "execution_count": 453,
   "id": "5f612846-15aa-4a48-aed3-11484a106f4f",
   "metadata": {},
   "outputs": [],
   "source": [
    "df_train, df_val = train_test_split(df_full_train, test_size=0.25, random_state=42)"
   ]
  },
  {
   "cell_type": "code",
   "execution_count": 454,
   "id": "ceec3e86-f3da-4103-83c7-7ea273dc435f",
   "metadata": {},
   "outputs": [
    {
     "data": {
      "text/plain": [
       "(27126, 9042, 9043)"
      ]
     },
     "execution_count": 454,
     "metadata": {},
     "output_type": "execute_result"
    }
   ],
   "source": [
    "len(df_train), len(df_val), len(df_test)"
   ]
  },
  {
   "cell_type": "code",
   "execution_count": 455,
   "id": "51de4503-2ade-4853-a634-b771482b89fb",
   "metadata": {},
   "outputs": [],
   "source": [
    "df_train.reset_index(drop=True, inplace=True)\n",
    "df_val.reset_index(drop=True, inplace=True)\n",
    "df_test.reset_index(drop=True, inplace=True)"
   ]
  },
  {
   "cell_type": "code",
   "execution_count": 456,
   "id": "d32b7c49-e9c4-449e-8abd-a610b89af255",
   "metadata": {},
   "outputs": [],
   "source": [
    "y_train = df_train.y.values\n",
    "y_val = df_val.y.values\n",
    "y_test = df_test.y.values"
   ]
  },
  {
   "cell_type": "code",
   "execution_count": 457,
   "id": "8e10306f-d333-4ef4-9f32-2e42005e0466",
   "metadata": {},
   "outputs": [],
   "source": [
    "del df_train['y']\n",
    "del df_val['y']\n",
    "del df_test['y']"
   ]
  },
  {
   "cell_type": "code",
   "execution_count": 458,
   "id": "7ae00f53-1e7d-4a39-950e-df1655ca5160",
   "metadata": {},
   "outputs": [],
   "source": [
    "df_full_train.reset_index(drop=True, inplace=True)"
   ]
  },
  {
   "cell_type": "markdown",
   "id": "873aa722-424c-484e-993c-b28a6d7bc72f",
   "metadata": {},
   "source": [
    "### Question 3\n",
    "\n",
    "* Calculate the mutual information score between `y` and other categorical variables in the dataset. Use the training set only.\n",
    "* Round the scores to 2 decimals using `round(score, 2)`.\n",
    "\n",
    "Which of these variables has the biggest mutual information score?\n",
    "  \n",
    "- `contact`\n",
    "- `education`\n",
    "- `housing`\n",
    "- `poutcome`\n"
   ]
  },
  {
   "cell_type": "code",
   "execution_count": 459,
   "id": "b722e102-0349-43d8-b487-07d7990d9c67",
   "metadata": {},
   "outputs": [],
   "source": [
    "from sklearn.metrics import mutual_info_score"
   ]
  },
  {
   "cell_type": "code",
   "execution_count": 460,
   "id": "8aeeb1c8-edc2-41f7-8f6e-a0dadd312100",
   "metadata": {},
   "outputs": [],
   "source": [
    "def mutual_info_y_scores(series):\n",
    "    return mutual_info_score(series,df_full_train.y)"
   ]
  },
  {
   "cell_type": "code",
   "execution_count": 461,
   "id": "fbda0f14-10d7-48f4-9b09-7ae8da6fd1e7",
   "metadata": {},
   "outputs": [
    {
     "data": {
      "text/plain": [
       "poutcome     0.029257\n",
       "month        0.024774\n",
       "contact      0.014164\n",
       "housing      0.009800\n",
       "job          0.007765\n",
       "education    0.002458\n",
       "marital      0.002019\n",
       "dtype: float64"
      ]
     },
     "execution_count": 461,
     "metadata": {},
     "output_type": "execute_result"
    }
   ],
   "source": [
    "mi = df_full_train[categorical_columns].apply(mutual_info_y_scores)\n",
    "mi.sort_values(ascending=False)"
   ]
  },
  {
   "cell_type": "code",
   "execution_count": 462,
   "id": "0fde57dd-86a2-47fd-8051-fa91c9d8b578",
   "metadata": {},
   "outputs": [
    {
     "name": "stdout",
     "output_type": "stream",
     "text": [
      "The variable 'poutcome' has the biggest mutual information score of 0.02925655626647966.\n"
     ]
    }
   ],
   "source": [
    "print(f\"The variable 'poutcome' has the biggest mutual information score of {mi.poutcome}.\")"
   ]
  },
  {
   "cell_type": "markdown",
   "id": "a2e7d046-746c-400c-a684-de58d293b786",
   "metadata": {},
   "source": [
    "### Question 4\n",
    "\n",
    "* Now let's train a logistic regression.\n",
    "* Remember that we have several categorical variables in the dataset. Include them using one-hot encoding.\n",
    "* Fit the model on the training dataset.\n",
    "    - To make sure the results are reproducible across different versions of Scikit-Learn, fit the model with these parameters:\n",
    "    - `model = LogisticRegression(solver='liblinear', C=1.0, max_iter=1000, random_state=42)`\n",
    "* Calculate the accuracy on the validation dataset and round it to 2 decimal digits.\n",
    "\n",
    "What accuracy did you get?\n",
    "\n",
    "- 0.6\n",
    "- 0.7\n",
    "- 0.8\n",
    "- 0.9"
   ]
  },
  {
   "cell_type": "code",
   "execution_count": 463,
   "id": "173d2bf2-5f8a-42e4-a095-61bdeaa35a0a",
   "metadata": {},
   "outputs": [],
   "source": [
    "from sklearn.feature_extraction import DictVectorizer\n",
    "from sklearn.linear_model import LogisticRegression"
   ]
  },
  {
   "cell_type": "code",
   "execution_count": 464,
   "id": "523dcc92-c0d0-488b-b885-df57179a4110",
   "metadata": {},
   "outputs": [],
   "source": [
    "dv = DictVectorizer(sparse = False)"
   ]
  },
  {
   "cell_type": "code",
   "execution_count": 465,
   "id": "47cb0282-db50-404f-afe3-b2ec871a3ed5",
   "metadata": {},
   "outputs": [],
   "source": [
    "dicts_train = df_train.to_dict(orient='records')"
   ]
  },
  {
   "cell_type": "code",
   "execution_count": 466,
   "id": "4512156c-37e9-437e-9ea9-9cad693b4bb1",
   "metadata": {},
   "outputs": [],
   "source": [
    "X_train = dv.fit_transform(dicts_train)"
   ]
  },
  {
   "cell_type": "code",
   "execution_count": 467,
   "id": "11db0c88-56d0-46ec-bd28-9a77dd53d558",
   "metadata": {},
   "outputs": [
    {
     "data": {
      "text/html": [
       "<style>#sk-container-id-6 {\n",
       "  /* Definition of color scheme common for light and dark mode */\n",
       "  --sklearn-color-text: black;\n",
       "  --sklearn-color-line: gray;\n",
       "  /* Definition of color scheme for unfitted estimators */\n",
       "  --sklearn-color-unfitted-level-0: #fff5e6;\n",
       "  --sklearn-color-unfitted-level-1: #f6e4d2;\n",
       "  --sklearn-color-unfitted-level-2: #ffe0b3;\n",
       "  --sklearn-color-unfitted-level-3: chocolate;\n",
       "  /* Definition of color scheme for fitted estimators */\n",
       "  --sklearn-color-fitted-level-0: #f0f8ff;\n",
       "  --sklearn-color-fitted-level-1: #d4ebff;\n",
       "  --sklearn-color-fitted-level-2: #b3dbfd;\n",
       "  --sklearn-color-fitted-level-3: cornflowerblue;\n",
       "\n",
       "  /* Specific color for light theme */\n",
       "  --sklearn-color-text-on-default-background: var(--sg-text-color, var(--theme-code-foreground, var(--jp-content-font-color1, black)));\n",
       "  --sklearn-color-background: var(--sg-background-color, var(--theme-background, var(--jp-layout-color0, white)));\n",
       "  --sklearn-color-border-box: var(--sg-text-color, var(--theme-code-foreground, var(--jp-content-font-color1, black)));\n",
       "  --sklearn-color-icon: #696969;\n",
       "\n",
       "  @media (prefers-color-scheme: dark) {\n",
       "    /* Redefinition of color scheme for dark theme */\n",
       "    --sklearn-color-text-on-default-background: var(--sg-text-color, var(--theme-code-foreground, var(--jp-content-font-color1, white)));\n",
       "    --sklearn-color-background: var(--sg-background-color, var(--theme-background, var(--jp-layout-color0, #111)));\n",
       "    --sklearn-color-border-box: var(--sg-text-color, var(--theme-code-foreground, var(--jp-content-font-color1, white)));\n",
       "    --sklearn-color-icon: #878787;\n",
       "  }\n",
       "}\n",
       "\n",
       "#sk-container-id-6 {\n",
       "  color: var(--sklearn-color-text);\n",
       "}\n",
       "\n",
       "#sk-container-id-6 pre {\n",
       "  padding: 0;\n",
       "}\n",
       "\n",
       "#sk-container-id-6 input.sk-hidden--visually {\n",
       "  border: 0;\n",
       "  clip: rect(1px 1px 1px 1px);\n",
       "  clip: rect(1px, 1px, 1px, 1px);\n",
       "  height: 1px;\n",
       "  margin: -1px;\n",
       "  overflow: hidden;\n",
       "  padding: 0;\n",
       "  position: absolute;\n",
       "  width: 1px;\n",
       "}\n",
       "\n",
       "#sk-container-id-6 div.sk-dashed-wrapped {\n",
       "  border: 1px dashed var(--sklearn-color-line);\n",
       "  margin: 0 0.4em 0.5em 0.4em;\n",
       "  box-sizing: border-box;\n",
       "  padding-bottom: 0.4em;\n",
       "  background-color: var(--sklearn-color-background);\n",
       "}\n",
       "\n",
       "#sk-container-id-6 div.sk-container {\n",
       "  /* jupyter's `normalize.less` sets `[hidden] { display: none; }`\n",
       "     but bootstrap.min.css set `[hidden] { display: none !important; }`\n",
       "     so we also need the `!important` here to be able to override the\n",
       "     default hidden behavior on the sphinx rendered scikit-learn.org.\n",
       "     See: https://github.com/scikit-learn/scikit-learn/issues/21755 */\n",
       "  display: inline-block !important;\n",
       "  position: relative;\n",
       "}\n",
       "\n",
       "#sk-container-id-6 div.sk-text-repr-fallback {\n",
       "  display: none;\n",
       "}\n",
       "\n",
       "div.sk-parallel-item,\n",
       "div.sk-serial,\n",
       "div.sk-item {\n",
       "  /* draw centered vertical line to link estimators */\n",
       "  background-image: linear-gradient(var(--sklearn-color-text-on-default-background), var(--sklearn-color-text-on-default-background));\n",
       "  background-size: 2px 100%;\n",
       "  background-repeat: no-repeat;\n",
       "  background-position: center center;\n",
       "}\n",
       "\n",
       "/* Parallel-specific style estimator block */\n",
       "\n",
       "#sk-container-id-6 div.sk-parallel-item::after {\n",
       "  content: \"\";\n",
       "  width: 100%;\n",
       "  border-bottom: 2px solid var(--sklearn-color-text-on-default-background);\n",
       "  flex-grow: 1;\n",
       "}\n",
       "\n",
       "#sk-container-id-6 div.sk-parallel {\n",
       "  display: flex;\n",
       "  align-items: stretch;\n",
       "  justify-content: center;\n",
       "  background-color: var(--sklearn-color-background);\n",
       "  position: relative;\n",
       "}\n",
       "\n",
       "#sk-container-id-6 div.sk-parallel-item {\n",
       "  display: flex;\n",
       "  flex-direction: column;\n",
       "}\n",
       "\n",
       "#sk-container-id-6 div.sk-parallel-item:first-child::after {\n",
       "  align-self: flex-end;\n",
       "  width: 50%;\n",
       "}\n",
       "\n",
       "#sk-container-id-6 div.sk-parallel-item:last-child::after {\n",
       "  align-self: flex-start;\n",
       "  width: 50%;\n",
       "}\n",
       "\n",
       "#sk-container-id-6 div.sk-parallel-item:only-child::after {\n",
       "  width: 0;\n",
       "}\n",
       "\n",
       "/* Serial-specific style estimator block */\n",
       "\n",
       "#sk-container-id-6 div.sk-serial {\n",
       "  display: flex;\n",
       "  flex-direction: column;\n",
       "  align-items: center;\n",
       "  background-color: var(--sklearn-color-background);\n",
       "  padding-right: 1em;\n",
       "  padding-left: 1em;\n",
       "}\n",
       "\n",
       "\n",
       "/* Toggleable style: style used for estimator/Pipeline/ColumnTransformer box that is\n",
       "clickable and can be expanded/collapsed.\n",
       "- Pipeline and ColumnTransformer use this feature and define the default style\n",
       "- Estimators will overwrite some part of the style using the `sk-estimator` class\n",
       "*/\n",
       "\n",
       "/* Pipeline and ColumnTransformer style (default) */\n",
       "\n",
       "#sk-container-id-6 div.sk-toggleable {\n",
       "  /* Default theme specific background. It is overwritten whether we have a\n",
       "  specific estimator or a Pipeline/ColumnTransformer */\n",
       "  background-color: var(--sklearn-color-background);\n",
       "}\n",
       "\n",
       "/* Toggleable label */\n",
       "#sk-container-id-6 label.sk-toggleable__label {\n",
       "  cursor: pointer;\n",
       "  display: block;\n",
       "  width: 100%;\n",
       "  margin-bottom: 0;\n",
       "  padding: 0.5em;\n",
       "  box-sizing: border-box;\n",
       "  text-align: center;\n",
       "}\n",
       "\n",
       "#sk-container-id-6 label.sk-toggleable__label-arrow:before {\n",
       "  /* Arrow on the left of the label */\n",
       "  content: \"▸\";\n",
       "  float: left;\n",
       "  margin-right: 0.25em;\n",
       "  color: var(--sklearn-color-icon);\n",
       "}\n",
       "\n",
       "#sk-container-id-6 label.sk-toggleable__label-arrow:hover:before {\n",
       "  color: var(--sklearn-color-text);\n",
       "}\n",
       "\n",
       "/* Toggleable content - dropdown */\n",
       "\n",
       "#sk-container-id-6 div.sk-toggleable__content {\n",
       "  max-height: 0;\n",
       "  max-width: 0;\n",
       "  overflow: hidden;\n",
       "  text-align: left;\n",
       "  /* unfitted */\n",
       "  background-color: var(--sklearn-color-unfitted-level-0);\n",
       "}\n",
       "\n",
       "#sk-container-id-6 div.sk-toggleable__content.fitted {\n",
       "  /* fitted */\n",
       "  background-color: var(--sklearn-color-fitted-level-0);\n",
       "}\n",
       "\n",
       "#sk-container-id-6 div.sk-toggleable__content pre {\n",
       "  margin: 0.2em;\n",
       "  border-radius: 0.25em;\n",
       "  color: var(--sklearn-color-text);\n",
       "  /* unfitted */\n",
       "  background-color: var(--sklearn-color-unfitted-level-0);\n",
       "}\n",
       "\n",
       "#sk-container-id-6 div.sk-toggleable__content.fitted pre {\n",
       "  /* unfitted */\n",
       "  background-color: var(--sklearn-color-fitted-level-0);\n",
       "}\n",
       "\n",
       "#sk-container-id-6 input.sk-toggleable__control:checked~div.sk-toggleable__content {\n",
       "  /* Expand drop-down */\n",
       "  max-height: 200px;\n",
       "  max-width: 100%;\n",
       "  overflow: auto;\n",
       "}\n",
       "\n",
       "#sk-container-id-6 input.sk-toggleable__control:checked~label.sk-toggleable__label-arrow:before {\n",
       "  content: \"▾\";\n",
       "}\n",
       "\n",
       "/* Pipeline/ColumnTransformer-specific style */\n",
       "\n",
       "#sk-container-id-6 div.sk-label input.sk-toggleable__control:checked~label.sk-toggleable__label {\n",
       "  color: var(--sklearn-color-text);\n",
       "  background-color: var(--sklearn-color-unfitted-level-2);\n",
       "}\n",
       "\n",
       "#sk-container-id-6 div.sk-label.fitted input.sk-toggleable__control:checked~label.sk-toggleable__label {\n",
       "  background-color: var(--sklearn-color-fitted-level-2);\n",
       "}\n",
       "\n",
       "/* Estimator-specific style */\n",
       "\n",
       "/* Colorize estimator box */\n",
       "#sk-container-id-6 div.sk-estimator input.sk-toggleable__control:checked~label.sk-toggleable__label {\n",
       "  /* unfitted */\n",
       "  background-color: var(--sklearn-color-unfitted-level-2);\n",
       "}\n",
       "\n",
       "#sk-container-id-6 div.sk-estimator.fitted input.sk-toggleable__control:checked~label.sk-toggleable__label {\n",
       "  /* fitted */\n",
       "  background-color: var(--sklearn-color-fitted-level-2);\n",
       "}\n",
       "\n",
       "#sk-container-id-6 div.sk-label label.sk-toggleable__label,\n",
       "#sk-container-id-6 div.sk-label label {\n",
       "  /* The background is the default theme color */\n",
       "  color: var(--sklearn-color-text-on-default-background);\n",
       "}\n",
       "\n",
       "/* On hover, darken the color of the background */\n",
       "#sk-container-id-6 div.sk-label:hover label.sk-toggleable__label {\n",
       "  color: var(--sklearn-color-text);\n",
       "  background-color: var(--sklearn-color-unfitted-level-2);\n",
       "}\n",
       "\n",
       "/* Label box, darken color on hover, fitted */\n",
       "#sk-container-id-6 div.sk-label.fitted:hover label.sk-toggleable__label.fitted {\n",
       "  color: var(--sklearn-color-text);\n",
       "  background-color: var(--sklearn-color-fitted-level-2);\n",
       "}\n",
       "\n",
       "/* Estimator label */\n",
       "\n",
       "#sk-container-id-6 div.sk-label label {\n",
       "  font-family: monospace;\n",
       "  font-weight: bold;\n",
       "  display: inline-block;\n",
       "  line-height: 1.2em;\n",
       "}\n",
       "\n",
       "#sk-container-id-6 div.sk-label-container {\n",
       "  text-align: center;\n",
       "}\n",
       "\n",
       "/* Estimator-specific */\n",
       "#sk-container-id-6 div.sk-estimator {\n",
       "  font-family: monospace;\n",
       "  border: 1px dotted var(--sklearn-color-border-box);\n",
       "  border-radius: 0.25em;\n",
       "  box-sizing: border-box;\n",
       "  margin-bottom: 0.5em;\n",
       "  /* unfitted */\n",
       "  background-color: var(--sklearn-color-unfitted-level-0);\n",
       "}\n",
       "\n",
       "#sk-container-id-6 div.sk-estimator.fitted {\n",
       "  /* fitted */\n",
       "  background-color: var(--sklearn-color-fitted-level-0);\n",
       "}\n",
       "\n",
       "/* on hover */\n",
       "#sk-container-id-6 div.sk-estimator:hover {\n",
       "  /* unfitted */\n",
       "  background-color: var(--sklearn-color-unfitted-level-2);\n",
       "}\n",
       "\n",
       "#sk-container-id-6 div.sk-estimator.fitted:hover {\n",
       "  /* fitted */\n",
       "  background-color: var(--sklearn-color-fitted-level-2);\n",
       "}\n",
       "\n",
       "/* Specification for estimator info (e.g. \"i\" and \"?\") */\n",
       "\n",
       "/* Common style for \"i\" and \"?\" */\n",
       "\n",
       ".sk-estimator-doc-link,\n",
       "a:link.sk-estimator-doc-link,\n",
       "a:visited.sk-estimator-doc-link {\n",
       "  float: right;\n",
       "  font-size: smaller;\n",
       "  line-height: 1em;\n",
       "  font-family: monospace;\n",
       "  background-color: var(--sklearn-color-background);\n",
       "  border-radius: 1em;\n",
       "  height: 1em;\n",
       "  width: 1em;\n",
       "  text-decoration: none !important;\n",
       "  margin-left: 1ex;\n",
       "  /* unfitted */\n",
       "  border: var(--sklearn-color-unfitted-level-1) 1pt solid;\n",
       "  color: var(--sklearn-color-unfitted-level-1);\n",
       "}\n",
       "\n",
       ".sk-estimator-doc-link.fitted,\n",
       "a:link.sk-estimator-doc-link.fitted,\n",
       "a:visited.sk-estimator-doc-link.fitted {\n",
       "  /* fitted */\n",
       "  border: var(--sklearn-color-fitted-level-1) 1pt solid;\n",
       "  color: var(--sklearn-color-fitted-level-1);\n",
       "}\n",
       "\n",
       "/* On hover */\n",
       "div.sk-estimator:hover .sk-estimator-doc-link:hover,\n",
       ".sk-estimator-doc-link:hover,\n",
       "div.sk-label-container:hover .sk-estimator-doc-link:hover,\n",
       ".sk-estimator-doc-link:hover {\n",
       "  /* unfitted */\n",
       "  background-color: var(--sklearn-color-unfitted-level-3);\n",
       "  color: var(--sklearn-color-background);\n",
       "  text-decoration: none;\n",
       "}\n",
       "\n",
       "div.sk-estimator.fitted:hover .sk-estimator-doc-link.fitted:hover,\n",
       ".sk-estimator-doc-link.fitted:hover,\n",
       "div.sk-label-container:hover .sk-estimator-doc-link.fitted:hover,\n",
       ".sk-estimator-doc-link.fitted:hover {\n",
       "  /* fitted */\n",
       "  background-color: var(--sklearn-color-fitted-level-3);\n",
       "  color: var(--sklearn-color-background);\n",
       "  text-decoration: none;\n",
       "}\n",
       "\n",
       "/* Span, style for the box shown on hovering the info icon */\n",
       ".sk-estimator-doc-link span {\n",
       "  display: none;\n",
       "  z-index: 9999;\n",
       "  position: relative;\n",
       "  font-weight: normal;\n",
       "  right: .2ex;\n",
       "  padding: .5ex;\n",
       "  margin: .5ex;\n",
       "  width: min-content;\n",
       "  min-width: 20ex;\n",
       "  max-width: 50ex;\n",
       "  color: var(--sklearn-color-text);\n",
       "  box-shadow: 2pt 2pt 4pt #999;\n",
       "  /* unfitted */\n",
       "  background: var(--sklearn-color-unfitted-level-0);\n",
       "  border: .5pt solid var(--sklearn-color-unfitted-level-3);\n",
       "}\n",
       "\n",
       ".sk-estimator-doc-link.fitted span {\n",
       "  /* fitted */\n",
       "  background: var(--sklearn-color-fitted-level-0);\n",
       "  border: var(--sklearn-color-fitted-level-3);\n",
       "}\n",
       "\n",
       ".sk-estimator-doc-link:hover span {\n",
       "  display: block;\n",
       "}\n",
       "\n",
       "/* \"?\"-specific style due to the `<a>` HTML tag */\n",
       "\n",
       "#sk-container-id-6 a.estimator_doc_link {\n",
       "  float: right;\n",
       "  font-size: 1rem;\n",
       "  line-height: 1em;\n",
       "  font-family: monospace;\n",
       "  background-color: var(--sklearn-color-background);\n",
       "  border-radius: 1rem;\n",
       "  height: 1rem;\n",
       "  width: 1rem;\n",
       "  text-decoration: none;\n",
       "  /* unfitted */\n",
       "  color: var(--sklearn-color-unfitted-level-1);\n",
       "  border: var(--sklearn-color-unfitted-level-1) 1pt solid;\n",
       "}\n",
       "\n",
       "#sk-container-id-6 a.estimator_doc_link.fitted {\n",
       "  /* fitted */\n",
       "  border: var(--sklearn-color-fitted-level-1) 1pt solid;\n",
       "  color: var(--sklearn-color-fitted-level-1);\n",
       "}\n",
       "\n",
       "/* On hover */\n",
       "#sk-container-id-6 a.estimator_doc_link:hover {\n",
       "  /* unfitted */\n",
       "  background-color: var(--sklearn-color-unfitted-level-3);\n",
       "  color: var(--sklearn-color-background);\n",
       "  text-decoration: none;\n",
       "}\n",
       "\n",
       "#sk-container-id-6 a.estimator_doc_link.fitted:hover {\n",
       "  /* fitted */\n",
       "  background-color: var(--sklearn-color-fitted-level-3);\n",
       "}\n",
       "</style><div id=\"sk-container-id-6\" class=\"sk-top-container\"><div class=\"sk-text-repr-fallback\"><pre>LogisticRegression(max_iter=1000, random_state=42, solver=&#x27;liblinear&#x27;)</pre><b>In a Jupyter environment, please rerun this cell to show the HTML representation or trust the notebook. <br />On GitHub, the HTML representation is unable to render, please try loading this page with nbviewer.org.</b></div><div class=\"sk-container\" hidden><div class=\"sk-item\"><div class=\"sk-estimator fitted sk-toggleable\"><input class=\"sk-toggleable__control sk-hidden--visually\" id=\"sk-estimator-id-6\" type=\"checkbox\" checked><label for=\"sk-estimator-id-6\" class=\"sk-toggleable__label fitted sk-toggleable__label-arrow fitted\">&nbsp;&nbsp;LogisticRegression<a class=\"sk-estimator-doc-link fitted\" rel=\"noreferrer\" target=\"_blank\" href=\"https://scikit-learn.org/1.5/modules/generated/sklearn.linear_model.LogisticRegression.html\">?<span>Documentation for LogisticRegression</span></a><span class=\"sk-estimator-doc-link fitted\">i<span>Fitted</span></span></label><div class=\"sk-toggleable__content fitted\"><pre>LogisticRegression(max_iter=1000, random_state=42, solver=&#x27;liblinear&#x27;)</pre></div> </div></div></div></div>"
      ],
      "text/plain": [
       "LogisticRegression(max_iter=1000, random_state=42, solver='liblinear')"
      ]
     },
     "execution_count": 467,
     "metadata": {},
     "output_type": "execute_result"
    }
   ],
   "source": [
    "model = LogisticRegression(solver='liblinear', C=1.0, max_iter=1000, random_state=42)\n",
    "model.fit(X_train, y_train)"
   ]
  },
  {
   "cell_type": "code",
   "execution_count": 468,
   "id": "62076792-35ec-47a0-8799-2870e8939aba",
   "metadata": {},
   "outputs": [],
   "source": [
    "dicts_val = df_val.to_dict(orient='records')"
   ]
  },
  {
   "cell_type": "code",
   "execution_count": 469,
   "id": "4aa93318-4dfa-4986-a6e7-07cdfbed1f8c",
   "metadata": {},
   "outputs": [],
   "source": [
    "X_val = dv.transform(dicts_val)"
   ]
  },
  {
   "cell_type": "code",
   "execution_count": 470,
   "id": "a00fdb55-cdc9-43a3-a30e-957bfeaa4e16",
   "metadata": {},
   "outputs": [
    {
     "data": {
      "text/plain": [
       "array([0.01384133, 0.00991416, 0.15855571, ..., 0.05156528, 0.0091288 ,\n",
       "       0.27121895])"
      ]
     },
     "execution_count": 470,
     "metadata": {},
     "output_type": "execute_result"
    }
   ],
   "source": [
    "y_pred = model.predict_proba(X_val)[:,1]\n",
    "y_pred"
   ]
  },
  {
   "cell_type": "code",
   "execution_count": 471,
   "id": "02f9ac35-f604-4371-ab23-f3cd1ea206e7",
   "metadata": {},
   "outputs": [],
   "source": [
    "subcription_decision = (y_pred>=0.5).astype(int)"
   ]
  },
  {
   "cell_type": "code",
   "execution_count": 472,
   "id": "f6b9e7d7-0534-4728-b9d7-321d48d5360b",
   "metadata": {},
   "outputs": [],
   "source": [
    "original_accuracy = (subcription_decision == y_val).mean()"
   ]
  },
  {
   "cell_type": "code",
   "execution_count": 473,
   "id": "952875e9-4bd8-4b70-86d1-c56198318cee",
   "metadata": {},
   "outputs": [
    {
     "data": {
      "text/plain": [
       "0.9010174740101747"
      ]
     },
     "execution_count": 473,
     "metadata": {},
     "output_type": "execute_result"
    }
   ],
   "source": [
    "original_accuracy"
   ]
  },
  {
   "cell_type": "code",
   "execution_count": 474,
   "id": "c518c840-503d-436b-9295-dc20c28a3e8e",
   "metadata": {},
   "outputs": [
    {
     "name": "stdout",
     "output_type": "stream",
     "text": [
      "The accuracy of the model is 0.9\n"
     ]
    }
   ],
   "source": [
    "print(f\"The accuracy of the model is {round(original_accuracy,2)}\")"
   ]
  },
  {
   "cell_type": "markdown",
   "id": "cf992fd8-af9e-4702-bb43-8dc6e0f60e54",
   "metadata": {},
   "source": [
    "### Question 5 \n",
    "\n",
    "* Let's find the least useful feature using the *feature elimination* technique.\n",
    "* Train a model with all these features (using the same parameters as in Q4).\n",
    "* Now exclude each feature from this set and train a model without it. Record the accuracy for each model.\n",
    "* For each feature, calculate the difference between the original accuracy and the accuracy without the feature. \n",
    "\n",
    "Which of following feature has the smallest difference?\n",
    "\n",
    "- `age`\n",
    "- `balance`\n",
    "- `marital`\n",
    "- `previous`\n",
    "\n",
    "> **Note**: The difference doesn't have to be positive."
   ]
  },
  {
   "cell_type": "code",
   "execution_count": 475,
   "id": "732c67df-ecea-424c-a84f-9aed41ffa916",
   "metadata": {},
   "outputs": [],
   "source": [
    "from decimal import Decimal\n",
    "original_accuracy_decimal = Decimal(original_accuracy)"
   ]
  },
  {
   "cell_type": "code",
   "execution_count": 493,
   "id": "ed92507c-90aa-4583-98e2-5e8b796bdc53",
   "metadata": {},
   "outputs": [
    {
     "name": "stdout",
     "output_type": "stream",
     "text": [
      "0.9007962840079629\n",
      "0.9007962840079629\n",
      "0.9011280690112807\n",
      "0.900575094005751\n"
     ]
    }
   ],
   "source": [
    "accuracy_diff_list = []\n",
    "columns = ['age', 'balance', 'marital', 'previous']\n",
    "for c in columns:\n",
    "    df_train_drop = df_train.copy()\n",
    "    df_train_drop = df_train_drop.drop(c,axis=1)\n",
    "    dicts_train_drop = df_train_drop.to_dict(orient = 'records')\n",
    "    dv_drop = DictVectorizer(sparse=False)\n",
    "    X_train_drop = dv_drop.fit_transform(dicts_train_drop)\n",
    "\n",
    "    model_drop = LogisticRegression(solver='liblinear', C=1.0, max_iter=1000, random_state=42)\n",
    "    model_drop.fit(X_train_drop,y_train)\n",
    "\n",
    "    df_val_drop = df_val.copy()\n",
    "    df_val_drop = df_val_drop.drop(c, axis = 1)\n",
    "    dicts_val_drop = df_val_drop.to_dict(orient = 'records')\n",
    "    X_val_drop = dv_drop.transform(dicts_val_drop)\n",
    "\n",
    "    y_pred_drop = model_drop.predict_proba(X_val_drop)[:,1]\n",
    "    subscription_decision_drop = (y_pred_drop>=0.5).astype(int)\n",
    "\n",
    "    accuracy_drop = (subscription_decision_drop==y_val).mean()\n",
    "    print(accuracy_drop)\n",
    "    accuracy_diff_list.append(abs(Decimal(original_accuracy)-Decimal(accuracy_drop)))"
   ]
  },
  {
   "cell_type": "code",
   "execution_count": 494,
   "id": "c351f07a-3622-4e2a-b4ea-c2f47a52a47c",
   "metadata": {},
   "outputs": [
    {
     "data": {
      "text/plain": [
       "[Decimal('0.0002211900022118795661185686185'),\n",
       " Decimal('0.0002211900022118795661185686185'),\n",
       " Decimal('0.0001105950011059952942105155671'),\n",
       " Decimal('0.0004423800044237591322371372371')]"
      ]
     },
     "execution_count": 494,
     "metadata": {},
     "output_type": "execute_result"
    }
   ],
   "source": [
    "accuracy_diff_list"
   ]
  },
  {
   "cell_type": "code",
   "execution_count": 495,
   "id": "6c7b47b4-03de-40ea-962e-6d5e800489da",
   "metadata": {},
   "outputs": [
    {
     "name": "stdout",
     "output_type": "stream",
     "text": [
      "The feature with the smallest difference is marital with difference of 0.0001105950011059952942105155671\n"
     ]
    }
   ],
   "source": [
    "print(f\"The feature with the smallest difference is {columns[2]} with difference of {accuracy_diff_list[2]}\")"
   ]
  },
  {
   "cell_type": "markdown",
   "id": "8a185259-4c98-423b-91f8-e084de716b03",
   "metadata": {},
   "source": [
    "### Question 6\n",
    "\n",
    "* Now let's train a regularized logistic regression.\n",
    "* Let's try the following values of the parameter `C`: `[0.01, 0.1, 1, 10, 100]`.\n",
    "* Train models using all the features as in Q4.\n",
    "* Calculate the accuracy on the validation dataset and round it to 3 decimal digits.\n",
    "\n",
    "Which of these `C` leads to the best accuracy on the validation set?\n",
    "\n",
    "- 0.01\n",
    "- 0.1\n",
    "- 1\n",
    "- 10\n",
    "- 100\n",
    "\n",
    "> **Note**: If there are multiple options, select the smallest `C`."
   ]
  },
  {
   "cell_type": "code",
   "execution_count": 503,
   "id": "4e151fad-0b87-4c48-b68c-222457b46960",
   "metadata": {},
   "outputs": [],
   "source": [
    "C = [0.01, 0.1, 1, 10, 100]\n",
    "\n",
    "dv_reg = DictVectorizer(sparse=False)\n",
    "\n",
    "df_train_reg = df_train.copy()\n",
    "dicts_train_reg = df_train_reg.to_dict(orient = 'records')\n",
    "X_train_reg = dv_reg.fit_transform(dicts_train_reg)\n",
    "\n",
    "df_val_reg = df_val.copy()\n",
    "dicts_val_reg = df_val_reg.to_dict(orient = 'records')\n",
    "X_val_reg = dv_reg.transform(dicts_val_reg)\n",
    "\n",
    "accuracy_reg_list=[]\n",
    "for c in C:\n",
    "    model_reg = LogisticRegression(solver='liblinear', C=c, max_iter=1000, random_state=42)\n",
    "    model_reg.fit(X_train_reg,y_train)\n",
    "\n",
    "    y_pred_reg = model_reg.predict_proba(X_val_reg)[:,1]\n",
    "    subscription_decision_reg = (y_pred_reg>0.5).astype(int)\n",
    "\n",
    "    accuracy_reg = (subscription_decision_reg==y_val).mean()\n",
    "    accuracy_reg_list.append(round(accuracy_reg,3))"
   ]
  },
  {
   "cell_type": "code",
   "execution_count": 504,
   "id": "b1add9ee-6839-496b-9b86-b41c717ee48d",
   "metadata": {},
   "outputs": [
    {
     "data": {
      "text/plain": [
       "[0.898, 0.901, 0.901, 0.901, 0.901]"
      ]
     },
     "execution_count": 504,
     "metadata": {},
     "output_type": "execute_result"
    }
   ],
   "source": [
    "accuracy_reg_list"
   ]
  },
  {
   "cell_type": "code",
   "execution_count": 502,
   "id": "c4ad1dcc-0051-4287-967e-92476f6d8d18",
   "metadata": {},
   "outputs": [
    {
     "data": {
      "text/plain": [
       "0.901"
      ]
     },
     "execution_count": 502,
     "metadata": {},
     "output_type": "execute_result"
    }
   ],
   "source": [
    "max(accuracy_reg_list)"
   ]
  },
  {
   "cell_type": "code",
   "execution_count": 508,
   "id": "e9170aeb-53ad-4369-95c2-418bd9fe6578",
   "metadata": {},
   "outputs": [
    {
     "name": "stdout",
     "output_type": "stream",
     "text": [
      "C = 0.1 is the smallest c which leads to the best accuracy on the validation set\n"
     ]
    }
   ],
   "source": [
    "print(f\"C = {C[1]} is the smallest c which leads to the best accuracy on the validation set\")"
   ]
  }
 ],
 "metadata": {
  "kernelspec": {
   "display_name": "Python 3 (ipykernel)",
   "language": "python",
   "name": "python3"
  },
  "language_info": {
   "codemirror_mode": {
    "name": "ipython",
    "version": 3
   },
   "file_extension": ".py",
   "mimetype": "text/x-python",
   "name": "python",
   "nbconvert_exporter": "python",
   "pygments_lexer": "ipython3",
   "version": "3.12.4"
  }
 },
 "nbformat": 4,
 "nbformat_minor": 5
}
