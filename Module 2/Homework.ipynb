{
 "cells": [
  {
   "cell_type": "code",
   "execution_count": 2,
   "id": "0ceb44b1-bcce-4ad0-96e8-19b4fdc994ee",
   "metadata": {},
   "outputs": [],
   "source": [
    "import numpy as np\n",
    "import pandas as pd"
   ]
  },
  {
   "cell_type": "markdown",
   "id": "833f0d45-ea05-4599-93cd-caf559b98984",
   "metadata": {},
   "source": [
    "### Dataset\n",
    "\n",
    "In this homework, we will use the Laptops price dataset from [Kaggle](https://www.kaggle.com/datasets/juanmerinobermejo/laptops-price-dataset).\n",
    "\n",
    "Here's a wget-able [link](https://raw.githubusercontent.com/alexeygrigorev/datasets/master/laptops.csv):\n",
    "\n",
    "```bash\n",
    "wget https://raw.githubusercontent.com/alexeygrigorev/datasets/master/laptops.csv\n",
    "```\n"
   ]
  },
  {
   "cell_type": "code",
   "execution_count": 2,
   "id": "10284c4f-bc93-410c-90fc-272fc1a2c029",
   "metadata": {},
   "outputs": [],
   "source": [
    "data = 'https://raw.githubusercontent.com/alexeygrigorev/datasets/master/laptops.csv'"
   ]
  },
  {
   "cell_type": "code",
   "execution_count": 3,
   "id": "713f91aa-7ae7-4df0-9a14-5771703f9251",
   "metadata": {},
   "outputs": [
    {
     "name": "stdout",
     "output_type": "stream",
     "text": [
      "--2024-10-07 23:52:13--  https://raw.githubusercontent.com/alexeygrigorev/datasets/master/laptops.csv\n",
      "Resolving raw.githubusercontent.com (raw.githubusercontent.com)... 2606:50c0:8001::154, 2606:50c0:8002::154, 2606:50c0:8003::154, ...\n",
      "Connecting to raw.githubusercontent.com (raw.githubusercontent.com)|2606:50c0:8001::154|:443... connected.\n",
      "HTTP request sent, awaiting response... 200 OK\n",
      "Length: 298573 (292K) [text/plain]\n",
      "Saving to: ‘laptops.csv’\n",
      "\n",
      "laptops.csv         100%[===================>] 291.58K  --.-KB/s    in 0.02s   \n",
      "\n",
      "2024-10-07 23:52:14 (11.9 MB/s) - ‘laptops.csv’ saved [298573/298573]\n",
      "\n"
     ]
    }
   ],
   "source": [
    "!wget $data"
   ]
  },
  {
   "cell_type": "code",
   "execution_count": 67,
   "id": "8af9a71a-0410-4b4c-b3e1-3309c100d2c8",
   "metadata": {},
   "outputs": [
    {
     "data": {
      "text/html": [
       "<div>\n",
       "<style scoped>\n",
       "    .dataframe tbody tr th:only-of-type {\n",
       "        vertical-align: middle;\n",
       "    }\n",
       "\n",
       "    .dataframe tbody tr th {\n",
       "        vertical-align: top;\n",
       "    }\n",
       "\n",
       "    .dataframe thead th {\n",
       "        text-align: right;\n",
       "    }\n",
       "</style>\n",
       "<table border=\"1\" class=\"dataframe\">\n",
       "  <thead>\n",
       "    <tr style=\"text-align: right;\">\n",
       "      <th></th>\n",
       "      <th>Laptop</th>\n",
       "      <th>Status</th>\n",
       "      <th>Brand</th>\n",
       "      <th>Model</th>\n",
       "      <th>CPU</th>\n",
       "      <th>RAM</th>\n",
       "      <th>Storage</th>\n",
       "      <th>Storage type</th>\n",
       "      <th>GPU</th>\n",
       "      <th>Screen</th>\n",
       "      <th>Touch</th>\n",
       "      <th>Final Price</th>\n",
       "    </tr>\n",
       "  </thead>\n",
       "  <tbody>\n",
       "    <tr>\n",
       "      <th>0</th>\n",
       "      <td>ASUS ExpertBook B1 B1502CBA-EJ0436X Intel Core...</td>\n",
       "      <td>New</td>\n",
       "      <td>Asus</td>\n",
       "      <td>ExpertBook</td>\n",
       "      <td>Intel Core i5</td>\n",
       "      <td>8</td>\n",
       "      <td>512</td>\n",
       "      <td>SSD</td>\n",
       "      <td>NaN</td>\n",
       "      <td>15.6</td>\n",
       "      <td>No</td>\n",
       "      <td>1009.00</td>\n",
       "    </tr>\n",
       "    <tr>\n",
       "      <th>1</th>\n",
       "      <td>Alurin Go Start Intel Celeron N4020/8GB/256GB ...</td>\n",
       "      <td>New</td>\n",
       "      <td>Alurin</td>\n",
       "      <td>Go</td>\n",
       "      <td>Intel Celeron</td>\n",
       "      <td>8</td>\n",
       "      <td>256</td>\n",
       "      <td>SSD</td>\n",
       "      <td>NaN</td>\n",
       "      <td>15.6</td>\n",
       "      <td>No</td>\n",
       "      <td>299.00</td>\n",
       "    </tr>\n",
       "    <tr>\n",
       "      <th>2</th>\n",
       "      <td>ASUS ExpertBook B1 B1502CBA-EJ0424X Intel Core...</td>\n",
       "      <td>New</td>\n",
       "      <td>Asus</td>\n",
       "      <td>ExpertBook</td>\n",
       "      <td>Intel Core i3</td>\n",
       "      <td>8</td>\n",
       "      <td>256</td>\n",
       "      <td>SSD</td>\n",
       "      <td>NaN</td>\n",
       "      <td>15.6</td>\n",
       "      <td>No</td>\n",
       "      <td>789.00</td>\n",
       "    </tr>\n",
       "    <tr>\n",
       "      <th>3</th>\n",
       "      <td>MSI Katana GF66 12UC-082XES Intel Core i7-1270...</td>\n",
       "      <td>New</td>\n",
       "      <td>MSI</td>\n",
       "      <td>Katana</td>\n",
       "      <td>Intel Core i7</td>\n",
       "      <td>16</td>\n",
       "      <td>1000</td>\n",
       "      <td>SSD</td>\n",
       "      <td>RTX 3050</td>\n",
       "      <td>15.6</td>\n",
       "      <td>No</td>\n",
       "      <td>1199.00</td>\n",
       "    </tr>\n",
       "    <tr>\n",
       "      <th>4</th>\n",
       "      <td>HP 15S-FQ5085NS Intel Core i5-1235U/16GB/512GB...</td>\n",
       "      <td>New</td>\n",
       "      <td>HP</td>\n",
       "      <td>15S</td>\n",
       "      <td>Intel Core i5</td>\n",
       "      <td>16</td>\n",
       "      <td>512</td>\n",
       "      <td>SSD</td>\n",
       "      <td>NaN</td>\n",
       "      <td>15.6</td>\n",
       "      <td>No</td>\n",
       "      <td>669.01</td>\n",
       "    </tr>\n",
       "  </tbody>\n",
       "</table>\n",
       "</div>"
      ],
      "text/plain": [
       "                                              Laptop Status   Brand  \\\n",
       "0  ASUS ExpertBook B1 B1502CBA-EJ0436X Intel Core...    New    Asus   \n",
       "1  Alurin Go Start Intel Celeron N4020/8GB/256GB ...    New  Alurin   \n",
       "2  ASUS ExpertBook B1 B1502CBA-EJ0424X Intel Core...    New    Asus   \n",
       "3  MSI Katana GF66 12UC-082XES Intel Core i7-1270...    New     MSI   \n",
       "4  HP 15S-FQ5085NS Intel Core i5-1235U/16GB/512GB...    New      HP   \n",
       "\n",
       "        Model            CPU  RAM  Storage Storage type       GPU  Screen  \\\n",
       "0  ExpertBook  Intel Core i5    8      512          SSD       NaN    15.6   \n",
       "1          Go  Intel Celeron    8      256          SSD       NaN    15.6   \n",
       "2  ExpertBook  Intel Core i3    8      256          SSD       NaN    15.6   \n",
       "3      Katana  Intel Core i7   16     1000          SSD  RTX 3050    15.6   \n",
       "4         15S  Intel Core i5   16      512          SSD       NaN    15.6   \n",
       "\n",
       "  Touch  Final Price  \n",
       "0    No      1009.00  \n",
       "1    No       299.00  \n",
       "2    No       789.00  \n",
       "3    No      1199.00  \n",
       "4    No       669.01  "
      ]
     },
     "execution_count": 67,
     "metadata": {},
     "output_type": "execute_result"
    }
   ],
   "source": [
    "df=pd.read_csv('laptops.csv')\n",
    "df.head()"
   ]
  },
  {
   "cell_type": "markdown",
   "id": "15bbc533-c9b5-4902-8419-de6beb20f315",
   "metadata": {},
   "source": [
    "### Preparing the dataset \n",
    "\n",
    "First, we'll normalize the names of the columns:"
   ]
  },
  {
   "cell_type": "code",
   "execution_count": 68,
   "id": "e53049fb-0e02-4a8b-b4a2-9c1b473047ec",
   "metadata": {},
   "outputs": [],
   "source": [
    "df.columns = df.columns.str.lower().str.replace(' ', '_')"
   ]
  },
  {
   "cell_type": "code",
   "execution_count": 69,
   "id": "7f2ebca9-a63b-4292-814d-6896a34339f9",
   "metadata": {},
   "outputs": [
    {
     "data": {
      "text/plain": [
       "laptop           object\n",
       "status           object\n",
       "brand            object\n",
       "model            object\n",
       "cpu              object\n",
       "ram               int64\n",
       "storage           int64\n",
       "storage_type     object\n",
       "gpu              object\n",
       "screen          float64\n",
       "touch            object\n",
       "final_price     float64\n",
       "dtype: object"
      ]
     },
     "execution_count": 69,
     "metadata": {},
     "output_type": "execute_result"
    }
   ],
   "source": [
    "df.dtypes"
   ]
  },
  {
   "cell_type": "code",
   "execution_count": 70,
   "id": "bbc66a50-a7d4-45ed-97f9-64fe8a4496c8",
   "metadata": {},
   "outputs": [
    {
     "data": {
      "text/plain": [
       "Index(['laptop', 'status', 'brand', 'model', 'cpu', 'ram', 'storage',\n",
       "       'storage_type', 'gpu', 'screen', 'touch', 'final_price'],\n",
       "      dtype='object')"
      ]
     },
     "execution_count": 70,
     "metadata": {},
     "output_type": "execute_result"
    }
   ],
   "source": [
    "df.columns"
   ]
  },
  {
   "cell_type": "code",
   "execution_count": 91,
   "id": "c9f6abf3-095c-46d3-a389-2835e85c49d7",
   "metadata": {},
   "outputs": [],
   "source": [
    "base = ['ram','storage','screen']"
   ]
  },
  {
   "cell_type": "markdown",
   "id": "c1a40c3a-d3cb-4584-ac09-eab78440d3fd",
   "metadata": {},
   "source": [
    "### EDA"
   ]
  },
  {
   "cell_type": "code",
   "execution_count": 72,
   "id": "2c71f8d0-15e4-4574-b20a-17908a56a7fa",
   "metadata": {},
   "outputs": [],
   "source": [
    "import matplotlib.pyplot as plt\n",
    "import seaborn as sns"
   ]
  },
  {
   "cell_type": "code",
   "execution_count": 73,
   "id": "eeb4a73b-dbe8-4683-a876-a3ba1ef7273e",
   "metadata": {},
   "outputs": [],
   "source": [
    "%matplotlib inline"
   ]
  },
  {
   "cell_type": "code",
   "execution_count": 74,
   "id": "ead7b548-f12d-480d-b870-285b93a77563",
   "metadata": {},
   "outputs": [
    {
     "data": {
      "image/png": "[encoded data removed]",
      "text/plain": [
       "<Figure size 640x480 with 1 Axes>"
      ]
     },
     "metadata": {},
     "output_type": "display_data"
    }
   ],
   "source": [
    "sns.histplot(df.final_price)\n",
    "plt.xlabel(\"Frequency\")\n",
    "plt.ylabel(\"Price\")\n",
    "plt.title(\"Distribution of prices\")\n",
    "plt.show()"
   ]
  },
  {
   "cell_type": "markdown",
   "id": "d15c1d32-5dff-4297-bd48-fa88c6b1209b",
   "metadata": {},
   "source": [
    "The dataset doesn't have a long tail. So, we can work with the current dataset and there is no need to apply log1p."
   ]
  },
  {
   "cell_type": "markdown",
   "id": "522621a0-47a3-476e-8e19-d25d5b70fad2",
   "metadata": {},
   "source": [
    "### Question 1\n",
    "\n",
    "There's one column with missing values. What is it?\n",
    "\n",
    "* `'ram'`\n",
    "* `'storage'`\n",
    "* `'screen'`\n",
    "* `'final_price'`"
   ]
  },
  {
   "cell_type": "code",
   "execution_count": 75,
   "id": "073a5b59-53fe-4bf2-b0e4-e702ffa1c5c0",
   "metadata": {},
   "outputs": [
    {
     "data": {
      "text/plain": [
       "ram            0\n",
       "storage        0\n",
       "screen         4\n",
       "final_price    0\n",
       "dtype: int64"
      ]
     },
     "execution_count": 75,
     "metadata": {},
     "output_type": "execute_result"
    }
   ],
   "source": [
    "df[base].isnull().sum()"
   ]
  },
  {
   "cell_type": "code",
   "execution_count": 76,
   "id": "7bcf070d-2029-4f83-ba03-c9c72a7e404e",
   "metadata": {},
   "outputs": [
    {
     "name": "stdout",
     "output_type": "stream",
     "text": [
      "The column 'screen' has 4 missing values\n"
     ]
    }
   ],
   "source": [
    "print(\"The column 'screen' has 4 missing values\")"
   ]
  },
  {
   "cell_type": "markdown",
   "id": "72ecaf20-e05e-4e36-8f0f-97240a808131",
   "metadata": {},
   "source": [
    "### Question 2\n",
    "\n",
    "What's the median (50% percentile) for variable `'ram'`?\n",
    "\n",
    "- 8\n",
    "- 16\n",
    "- 24\n",
    "- 32"
   ]
  },
  {
   "cell_type": "code",
   "execution_count": 77,
   "id": "5d7bfa1a-3bfa-4378-a340-7b4b196c8f8f",
   "metadata": {},
   "outputs": [
    {
     "name": "stdout",
     "output_type": "stream",
     "text": [
      "The median for the variable 'ram' is 16.\n"
     ]
    }
   ],
   "source": [
    "print(f\"The median for the variable 'ram' is {df.ram.median():.0f}.\")"
   ]
  },
  {
   "cell_type": "markdown",
   "id": "91eb3f41-5f5b-4899-80c7-e26c8d523245",
   "metadata": {},
   "source": [
    "### Prepare and split the dataset\n",
    "\n",
    "* Shuffle the dataset (the filtered one you created above), use seed `42`.\n",
    "* Split your data in train/val/test sets, with 60%/20%/20% distribution."
   ]
  },
  {
   "cell_type": "code",
   "execution_count": 78,
   "id": "4c205c81-cb97-442f-b582-c55bf1796f1c",
   "metadata": {},
   "outputs": [],
   "source": [
    "n=len(df[base])\n",
    "\n",
    "n_val=int(n*0.2)\n",
    "n_test=int(n*0.2)\n",
    "n_train = n- (n_test+n_val)"
   ]
  },
  {
   "cell_type": "code",
   "execution_count": 79,
   "id": "b6de2d5e-71f6-41dd-b86f-d246d6a20e85",
   "metadata": {},
   "outputs": [
    {
     "data": {
      "text/plain": [
       "(2160, 2160)"
      ]
     },
     "execution_count": 79,
     "metadata": {},
     "output_type": "execute_result"
    }
   ],
   "source": [
    "n, n_val+n_test+ n_train"
   ]
  },
  {
   "cell_type": "code",
   "execution_count": 80,
   "id": "c1b96af3-9c40-41d4-81b3-60e384b98127",
   "metadata": {},
   "outputs": [
    {
     "data": {
      "text/plain": [
       "(1296, 432, 432)"
      ]
     },
     "execution_count": 80,
     "metadata": {},
     "output_type": "execute_result"
    }
   ],
   "source": [
    "n_train, n_val, n_test"
   ]
  },
  {
   "cell_type": "code",
   "execution_count": 81,
   "id": "d887727b-ff1a-4e75-b54a-1328a8bc3f74",
   "metadata": {},
   "outputs": [
    {
     "data": {
      "text/plain": [
       "array([   0,    1,    2, ..., 2157, 2158, 2159])"
      ]
     },
     "execution_count": 81,
     "metadata": {},
     "output_type": "execute_result"
    }
   ],
   "source": [
    "idx=np.arange(n)\n",
    "idx"
   ]
  },
  {
   "cell_type": "code",
   "execution_count": 82,
   "id": "a321fb70-d495-4c89-846c-7f0849c335aa",
   "metadata": {},
   "outputs": [
    {
     "data": {
      "text/plain": [
       "array([2079,  668, 2073, ..., 1130, 1294,  860])"
      ]
     },
     "execution_count": 82,
     "metadata": {},
     "output_type": "execute_result"
    }
   ],
   "source": [
    "np.random.seed(42) #To make the shuffling reproducible we assign a seed to the random function\n",
    "np.random.shuffle(idx)\n",
    "idx"
   ]
  },
  {
   "cell_type": "code",
   "execution_count": 83,
   "id": "7d908ecd-957c-4a42-a493-af311fbda0b7",
   "metadata": {},
   "outputs": [],
   "source": [
    "df_shuffled = df[base].iloc[idx]\n",
    "df_train=df_shuffled.iloc[:n_train].copy()\n",
    "df_val=df_shuffled.iloc[n_train:n_train+n_val].copy()\n",
    "df_test=df_shuffled.iloc[n_train+n_val:].copy()"
   ]
  },
  {
   "cell_type": "code",
   "execution_count": 84,
   "id": "5e0947eb-c675-47e5-ba83-23a3b9fdc59d",
   "metadata": {},
   "outputs": [],
   "source": [
    "df_train.reset_index(drop=True,inplace=True)\n",
    "df_val.reset_index(drop=True,inplace=True)\n",
    "df_test.reset_index(drop=True,inplace=True)"
   ]
  },
  {
   "cell_type": "code",
   "execution_count": 85,
   "id": "30e3d9cc-fb41-4464-bf6f-3711c22f9928",
   "metadata": {},
   "outputs": [],
   "source": [
    "y_train = df_train.final_price.values\n",
    "y_val = df_val.final_price.values\n",
    "y_test = df_test.final_price.values"
   ]
  },
  {
   "cell_type": "code",
   "execution_count": 86,
   "id": "b6057060-0032-4fe5-9a65-b6742b97fe8e",
   "metadata": {},
   "outputs": [],
   "source": [
    "del df_train['final_price']\n",
    "del df_val['final_price']\n",
    "del df_test['final_price']"
   ]
  },
  {
   "cell_type": "markdown",
   "id": "fb2a7efd-3aef-419d-a097-b7c15ba657ec",
   "metadata": {},
   "source": [
    "### Question 3\n",
    "\n",
    "* We need to deal with missing values for the column from Q1.\n",
    "* We have two options: fill it with 0 or with the mean of this variable.\n",
    "* Try both options. For each, train a linear regression model without regularization using the code from the lessons.\n",
    "* For computing the mean, use the training only!\n",
    "* Use the validation dataset to evaluate the models and compare the RMSE of each option.\n",
    "* Round the RMSE scores to 2 decimal digits using `round(score, 2)`\n",
    "* Which option gives better RMSE?\n",
    "\n",
    "Options:\n",
    "\n",
    "- With 0\n",
    "- With mean\n",
    "- Both are equally good"
   ]
  },
  {
   "cell_type": "code",
   "execution_count": 87,
   "id": "ffe30d71-9890-4468-a4b5-9c09b07f2088",
   "metadata": {},
   "outputs": [],
   "source": [
    "def train_linear_regression(X,y):\n",
    "    ones = np.ones(X.shape[0])\n",
    "    X = np.column_stack([ones,X])\n",
    "    XTX = X.T@X\n",
    "    XTX_inv = np.linalg.inv(XTX)\n",
    "    w_full = XTX_inv.dot(X.T).dot(y)\n",
    "    return w_full[0], w_full[1:]"
   ]
  },
  {
   "cell_type": "code",
   "execution_count": 113,
   "id": "5751e4eb-ad39-4d34-bedc-fc6fd86cbf25",
   "metadata": {},
   "outputs": [],
   "source": [
    "def prepare_X0(df):\n",
    "    df_num = df[base]\n",
    "    df_num = df_num.fillna(0) #Filling the missing values with zero\n",
    "    X = df_num.values\n",
    "    return X"
   ]
  },
  {
   "cell_type": "code",
   "execution_count": 114,
   "id": "ada6a5cc-dad4-4751-a96e-25a98f2ab8ab",
   "metadata": {},
   "outputs": [],
   "source": [
    "X_train = prepare_X0(df_train)\n",
    "X_val = prepare_X0(df_val)"
   ]
  },
  {
   "cell_type": "code",
   "execution_count": 115,
   "id": "771c3f5d-46a9-4dd5-8134-c19516092185",
   "metadata": {},
   "outputs": [],
   "source": [
    "def rmse(y, y_pred):\n",
    "    se=(y- y_pred)**2\n",
    "    mse=se.mean()\n",
    "    return np.sqrt(mse)"
   ]
  },
  {
   "cell_type": "code",
   "execution_count": 116,
   "id": "113911ff-06a7-41cc-8e3b-e9ba1a28de99",
   "metadata": {},
   "outputs": [
    {
     "name": "stdout",
     "output_type": "stream",
     "text": [
      "Training and calucaling the RMSE after filling missing values with 0.\n",
      "RMSE between y_train and y_pred: 602.39\n",
      "RMSE between y_val and y_pred: 597.36\n"
     ]
    }
   ],
   "source": [
    "print(\"Training and calucaling the RMSE after filling missing values with 0.\")\n",
    "w0, w = train_linear_regression(X_train,y_train)\n",
    "y_pred = w0 + X_train.dot(w)\n",
    "score_train_0 = round(rmse(y_train, y_pred),2)\n",
    "print(f\"RMSE between y_train and y_pred: {score_train_0}\")\n",
    "\n",
    "X_val = prepare_X(df_val)\n",
    "y_pred = w0 + X_val.dot(w)\n",
    "score_val_0 = round(rmse(y_val, y_pred),2)\n",
    "print(f\"RMSE between y_val and y_pred: {score_val_0}\")"
   ]
  },
  {
   "cell_type": "code",
   "execution_count": 117,
   "id": "62dbca1a-4a68-4af2-99f8-921fd9734a7a",
   "metadata": {},
   "outputs": [],
   "source": [
    "def prepare_X_mean(df):\n",
    "    df_num = df[base]\n",
    "    #Filling the missing values with the mean of screen column from the training dataset\n",
    "    df_num = df_num.fillna(df_train['screen'].mean()) \n",
    "    X = df_num.values\n",
    "    return X"
   ]
  },
  {
   "cell_type": "code",
   "execution_count": 118,
   "id": "c77acc25-cad6-4d26-9aa9-e507451fe0bb",
   "metadata": {},
   "outputs": [],
   "source": [
    "X_train = prepare_X_mean(df_train)\n",
    "X_val = prepare_X_mean(df_val)"
   ]
  },
  {
   "cell_type": "code",
   "execution_count": 119,
   "id": "44fa5741-c75d-434c-a33b-14798c705e23",
   "metadata": {},
   "outputs": [
    {
     "name": "stdout",
     "output_type": "stream",
     "text": [
      "Training and calucaling the RMSE after filling missing values with mean of the training dataset.\n",
      "RMSE between y_train and y_pred: 602.18\n",
      "RMSE between y_val and y_pred: 597.74\n"
     ]
    }
   ],
   "source": [
    "print(\"Training and calucaling the RMSE after filling missing values with mean of the training dataset.\")\n",
    "w0, w = train_linear_regression(X_train,y_train)\n",
    "y_pred = w0 + X_train.dot(w)\n",
    "score_train_mean = round(rmse(y_train, y_pred),2)\n",
    "print(f\"RMSE between y_train and y_pred: {score_train}\")\n",
    "\n",
    "X_val = prepare_X(df_val)\n",
    "y_pred = w0 + X_val.dot(w)\n",
    "score_val_mean = round(rmse(y_val, y_pred),2)\n",
    "print(f\"RMSE between y_val and y_pred: {score_val}\")"
   ]
  },
  {
   "cell_type": "code",
   "execution_count": 125,
   "id": "946c50c8-cb92-479d-a9d3-7c04cda50a3c",
   "metadata": {},
   "outputs": [
    {
     "name": "stdout",
     "output_type": "stream",
     "text": [
      "The option with 0 gives a slightly better RMSE than the option with mean.\n",
      "The difference between the two RMSE is RMSE_mean - RMSE_0 = 0.38.\n"
     ]
    }
   ],
   "source": [
    "print(f\"The option with 0 gives a slightly better RMSE than the option with mean.\\nThe difference between the two RMSE is RMSE_mean - RMSE_0 = {(score_val_mean-score_val_0):0.2f}.\")"
   ]
  },
  {
   "cell_type": "markdown",
   "id": "173f8a7e-6312-4230-9797-49aa4cea48d7",
   "metadata": {},
   "source": [
    "### Question 4\n",
    "\n",
    "* Now let's train a regularized linear regression.\n",
    "* For this question, fill the NAs with 0. \n",
    "* Try different values of `r` from this list: `[0, 0.01, 0.1, 1, 5, 10, 100]`.\n",
    "* Use RMSE to evaluate the model on the validation dataset.\n",
    "* Round the RMSE scores to 2 decimal digits.\n",
    "* Which `r` gives the best RMSE?\n",
    "\n",
    "If there are multiple options, select the smallest `r`.\n",
    "\n",
    "Options:\n",
    "\n",
    "- 0\n",
    "- 0.01\n",
    "- 1\n",
    "- 10\n",
    "- 100"
   ]
  },
  {
   "cell_type": "code",
   "execution_count": 126,
   "id": "edf8dd99-889d-4d17-ba4c-cd983c847eaf",
   "metadata": {},
   "outputs": [],
   "source": [
    "def train_linear_regression_reg(X,y, r=0.001):\n",
    "    ones = np.ones(X.shape[0])\n",
    "    X = np.column_stack([ones,X])\n",
    "    \n",
    "    XTX = X.T@X\n",
    "    XTX = XTX + r * np.eye(XTX.shape[0])\n",
    "    \n",
    "    XTX_inv = np.linalg.inv(XTX)\n",
    "    w_full = XTX_inv.dot(X.T).dot(y)\n",
    "    \n",
    "    return w_full[0], w_full[1:]"
   ]
  },
  {
   "cell_type": "code",
   "execution_count": 127,
   "id": "17b518ce-e741-4ccc-97d0-6058da20fe43",
   "metadata": {},
   "outputs": [],
   "source": [
    "X_train = prepare_X0(df_train)\n",
    "X_val = prepare_X0(df_val)"
   ]
  },
  {
   "cell_type": "code",
   "execution_count": 128,
   "id": "cb312caa-56ee-4a01-8d62-5749cec88ac8",
   "metadata": {},
   "outputs": [
    {
     "name": "stdout",
     "output_type": "stream",
     "text": [
      "Validation RMSE for r = 0: 597.36\n",
      "Validation RMSE for r = 0.01: 597.36\n",
      "Validation RMSE for r = 0.1: 597.35\n",
      "Validation RMSE for r = 1: 597.21\n",
      "Validation RMSE for r = 5: 597.01\n",
      "Validation RMSE for r = 10: 597.06\n",
      "Validation RMSE for r = 100: 597.9\n"
     ]
    }
   ],
   "source": [
    "reg = [0, 0.01, 0.1, 1, 5, 10, 100]\n",
    "for r in reg:\n",
    "    w0, w = train_linear_regression_reg(X_train,y_train,r)\n",
    "\n",
    "    X_val = prepare_X(df_val)\n",
    "    y_pred = w0 + X_val.dot(w)\n",
    "    score_val_0 = round(rmse(y_val, y_pred),2)\n",
    "    print(f\"Validation RMSE for r = {r}: {score_val_0}\")"
   ]
  },
  {
   "cell_type": "markdown",
   "id": "2a6aa2ed-f1a9-4d5a-bbe8-167f902a103a",
   "metadata": {},
   "source": [
    "**`r = 10`** gives the best RMSE among the options."
   ]
  },
  {
   "cell_type": "markdown",
   "id": "f41112b8-835f-461c-bcd0-3ec1e578ab87",
   "metadata": {},
   "source": [
    "### Question 5 \n",
    "\n",
    "* We used seed 42 for splitting the data. Let's find out how selecting the seed influences our score.\n",
    "* Try different seed values: `[0, 1, 2, 3, 4, 5, 6, 7, 8, 9]`.\n",
    "* For each seed, do the train/validation/test split with 60%/20%/20% distribution.\n",
    "* Fill the missing values with 0 and train a model without regularization.\n",
    "* For each seed, evaluate the model on the validation dataset and collect the RMSE scores. \n",
    "* What's the standard deviation of all the scores? To compute the standard deviation, use `np.std`.\n",
    "* Round the result to 3 decimal digits (`round(std, 3)`)\n",
    "\n",
    "What's the value of std?\n",
    "\n",
    "- 19.176\n",
    "- 29.176\n",
    "- 39.176\n",
    "- 49.176\n",
    "\n",
    "> Note: Standard deviation shows how different the values are.\n",
    "> If it's low, then all values are approximately the same.\n",
    "> If it's high, the values are different. \n",
    "> If standard deviation of scores is low, then our model is *stable*.\n"
   ]
  },
  {
   "cell_type": "code",
   "execution_count": 135,
   "id": "248619c0-786b-4969-8a8a-eead923b5a07",
   "metadata": {},
   "outputs": [],
   "source": [
    "base = ['ram','storage','screen', 'final_price']"
   ]
  },
  {
   "cell_type": "code",
   "execution_count": 136,
   "id": "8e0d5114-086d-4f0f-9f4e-ff4d6a3468c3",
   "metadata": {},
   "outputs": [],
   "source": [
    "def train_linear_regression(X,y):\n",
    "    ones = np.ones(X.shape[0])\n",
    "    X = np.column_stack([ones,X])\n",
    "    XTX = X.T@X\n",
    "    XTX_inv = np.linalg.inv(XTX)\n",
    "    w_full = XTX_inv.dot(X.T).dot(y)\n",
    "    return w_full[0], w_full[1:]"
   ]
  },
  {
   "cell_type": "code",
   "execution_count": 143,
   "id": "266e4fc5-2751-4c97-ae64-b5154e5b975c",
   "metadata": {},
   "outputs": [],
   "source": [
    "def prepare_X0(df):\n",
    "    df_num = df.copy()\n",
    "    df_num = df_num.fillna(0) #Filling the missing values with zero\n",
    "    X = df_num.values\n",
    "    return X"
   ]
  },
  {
   "cell_type": "code",
   "execution_count": 144,
   "id": "59220e99-b8a7-4b02-a015-d03936ed93ed",
   "metadata": {},
   "outputs": [],
   "source": [
    "def rmse(y, y_pred):\n",
    "    se=(y- y_pred)**2\n",
    "    mse=se.mean()\n",
    "    return np.sqrt(mse)"
   ]
  },
  {
   "cell_type": "code",
   "execution_count": 145,
   "id": "1edaadfd-69a6-43ef-af55-c0ea37c19dda",
   "metadata": {},
   "outputs": [],
   "source": [
    "def linear_regression(seed):\n",
    "    n=len(df[base])\n",
    "    n_val=int(n*0.2)\n",
    "    n_test=int(n*0.2)\n",
    "    n_train = n- (n_test+n_val)\n",
    "    \n",
    "    idx=np.arange(n)\n",
    "    np.random.seed(seed)\n",
    "    np.random.shuffle(idx)\n",
    "    \n",
    "    df_shuffled = df[base].iloc[idx].copy()\n",
    "    df_train=df_shuffled.iloc[:n_train].copy()\n",
    "    df_val=df_shuffled.iloc[n_train:n_train+n_val].copy()\n",
    "    df_test=df_shuffled.iloc[n_train+n_val:].copy()\n",
    "    \n",
    "    df_train.reset_index(drop=True,inplace=True)\n",
    "    df_val.reset_index(drop=True,inplace=True)\n",
    "    df_test.reset_index(drop=True,inplace=True)\n",
    "\n",
    "    y_train = df_train.final_price.values\n",
    "    y_val = df_val.final_price.values\n",
    "    y_test = df_test.final_price.values\n",
    "    \n",
    "    del df_train['final_price']\n",
    "    del df_val['final_price']\n",
    "    del df_test['final_price']\n",
    "\n",
    "    X_train = prepare_X0(df_train)\n",
    "    w0, w = train_linear_regression(X_train,y_train)\n",
    "    \n",
    "    X_val = prepare_X0(df_val)\n",
    "    y_pred = w0 + X_val.dot(w)\n",
    "    score_val_0 = round(rmse(y_val, y_pred),2)\n",
    "    return score_val_0"
   ]
  },
  {
   "cell_type": "code",
   "execution_count": 146,
   "id": "44908864-54c3-469f-ba73-b0e454e1c27c",
   "metadata": {},
   "outputs": [],
   "source": [
    "scores = []\n",
    "seeds = [0, 1, 2, 3, 4, 5, 6, 7, 8, 9]\n",
    "for seed in seeds:\n",
    "    scores.append(linear_regression(seed))"
   ]
  },
  {
   "cell_type": "code",
   "execution_count": 147,
   "id": "9f3e04c1-876c-4d54-9619-2c7d0fba8271",
   "metadata": {},
   "outputs": [
    {
     "data": {
      "text/plain": [
       "[565.45, 636.8, 588.96, 597.81, 571.96, 573.24, 647.34, 550.44, 587.33, 576.1]"
      ]
     },
     "execution_count": 147,
     "metadata": {},
     "output_type": "execute_result"
    }
   ],
   "source": [
    "scores"
   ]
  },
  {
   "cell_type": "code",
   "execution_count": 149,
   "id": "5c565f36-587f-4c48-a901-f4387b65f8a8",
   "metadata": {},
   "outputs": [
    {
     "name": "stdout",
     "output_type": "stream",
     "text": [
      "The standard deviation of all the scores is 29.176\n"
     ]
    }
   ],
   "source": [
    "print(f\"The standard deviation of all the scores is {round(np.std(scores),3)}\")"
   ]
  },
  {
   "cell_type": "markdown",
   "id": "06224c3d-cdb0-4b44-9ccc-679eac661903",
   "metadata": {},
   "source": [
    "### Question 6\n",
    "\n",
    "* Split the dataset like previously, use seed 9.\n",
    "* Combine train and validation datasets.\n",
    "* Fill the missing values with 0 and train a model with `r=0.001`. \n",
    "* What's the RMSE on the test dataset?\n",
    "\n",
    "Options:\n",
    "\n",
    "- 598.60\n",
    "- 608.60\n",
    "- 618.60\n",
    "- 628.60"
   ]
  },
  {
   "cell_type": "code",
   "execution_count": 151,
   "id": "35a570dd-92e9-4ef8-99dd-bb8b4d4a8b80",
   "metadata": {},
   "outputs": [],
   "source": [
    "def train_linear_regression_reg(X,y, r=0.001):\n",
    "    ones = np.ones(X.shape[0])\n",
    "    X = np.column_stack([ones,X])\n",
    "    \n",
    "    XTX = X.T@X\n",
    "    XTX = XTX + r * np.eye(XTX.shape[0])\n",
    "    \n",
    "    XTX_inv = np.linalg.inv(XTX)\n",
    "    w_full = XTX_inv.dot(X.T).dot(y)\n",
    "    \n",
    "    return w_full[0], w_full[1:]"
   ]
  },
  {
   "cell_type": "code",
   "execution_count": 160,
   "id": "f25e7667-bb92-47ad-9cbb-5319a47e772f",
   "metadata": {},
   "outputs": [],
   "source": [
    "def linear_regression(seed):\n",
    "    n=len(df[base])\n",
    "    n_val=int(n*0.2)\n",
    "    n_test=int(n*0.2)\n",
    "    n_train = n- (n_test+n_val)\n",
    "    \n",
    "    idx=np.arange(n)\n",
    "    np.random.seed(seed)\n",
    "    np.random.shuffle(idx)\n",
    "    \n",
    "    df_shuffled = df[base].iloc[idx].copy()\n",
    "    df_train=df_shuffled.iloc[:n_train].copy()\n",
    "    df_val=df_shuffled.iloc[n_train:n_train+n_val].copy()\n",
    "    df_test=df_shuffled.iloc[n_train+n_val:].copy()\n",
    "    \n",
    "    df_train.reset_index(drop=True,inplace=True)\n",
    "    df_val.reset_index(drop=True,inplace=True)\n",
    "    df_test.reset_index(drop=True,inplace=True)\n",
    "\n",
    "    y_train = df_train.final_price.values\n",
    "    y_val = df_val.final_price.values\n",
    "    y_test = df_test.final_price.values\n",
    "    \n",
    "    del df_train['final_price']\n",
    "    del df_val['final_price']\n",
    "    del df_test['final_price']\n",
    "\n",
    "    df_full_train = pd.concat([df_train, df_val])\n",
    "    X_full_train = prepare_X0(df_full_train)\n",
    "    y_full_train = np.concatenate([y_train,y_val])\n",
    "    w0, w = train_linear_regression_reg(X_full_train,y_full_train,0.001)\n",
    "    \n",
    "    X_test = prepare_X0(df_test)\n",
    "    y_pred = w0 + X_test.dot(w)\n",
    "    score_val_0 = round(rmse(y_test, y_pred),2)\n",
    "    return score_val_0"
   ]
  },
  {
   "cell_type": "code",
   "execution_count": 161,
   "id": "e691a638-b214-4a3e-8a89-5e585c85580e",
   "metadata": {},
   "outputs": [
    {
     "name": "stdout",
     "output_type": "stream",
     "text": [
      "The RMSE on the test dataset is 608.61\n"
     ]
    }
   ],
   "source": [
    "score = linear_regression(9)\n",
    "print(f\"The RMSE on the test dataset is {score}\")"
   ]
  },
  {
   "cell_type": "code",
   "execution_count": 168,
   "id": "97a15a13-7367-487c-9b78-75e07b392bcd",
   "metadata": {},
   "outputs": [
    {
     "name": "stdout",
     "output_type": "stream",
     "text": [
      "Requirement already satisfied: tzlocal in /home/sparsh-raj/anaconda3/envs/ml-zoomcamp/lib/python3.12/site-packages (5.2)\n"
     ]
    }
   ],
   "source": [
    "!pip install tzlocal"
   ]
  },
  {
   "cell_type": "code",
   "execution_count": 169,
   "id": "f0d23093-311c-4d16-bf60-386d69018a06",
   "metadata": {},
   "outputs": [
    {
     "name": "stdout",
     "output_type": "stream",
     "text": [
      "2024-10-09 16:37:32.578262+05:30\n"
     ]
    }
   ],
   "source": [
    "from datetime import datetime\n",
    "import tzlocal\n",
    "\n",
    "# Get the local timezone\n",
    "local_timezone = tzlocal.get_localzone()\n",
    "\n",
    "# Get the current time in the local timezone\n",
    "current_time_local = datetime.now(local_timezone)\n",
    "\n",
    "print(current_time_local)"
   ]
  },
  {
   "cell_type": "code",
   "execution_count": null,
   "id": "95469f37-d1af-4841-ac60-a2702f093804",
   "metadata": {},
   "outputs": [],
   "source": []
  }
 ],
 "metadata": {
  "kernelspec": {
   "display_name": "Python 3 (ipykernel)",
   "language": "python",
   "name": "python3"
  },
  "language_info": {
   "codemirror_mode": {
    "name": "ipython",
    "version": 3
   },
   "file_extension": ".py",
   "mimetype": "text/x-python",
   "name": "python",
   "nbconvert_exporter": "python",
   "pygments_lexer": "ipython3",
   "version": "3.12.4"
  }
 },
 "nbformat": 4,
 "nbformat_minor": 5
}
